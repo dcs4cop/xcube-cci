{
 "cells": [
  {
   "cell_type": "markdown",
   "metadata": {},
   "source": [
    "## ESA CCI Open Data Portal access using xcube\n",
    "\n",
    "The aim of this notebook is to show how to query for all the data sets provided by the CCI ODP Store and how to get the neccessary information to create a data set cube.\n",
    "\n",
    "To run this Notebook, make sure the ESA CCI ODP / xcube Integration is setup correctly, see [Ex0-DCFS-Setup](./Ex0-DCFS-Setup.ipynb).\n",
    "We begin with installing some necessary imports."
   ]
  },
  {
   "cell_type": "code",
   "execution_count": 1,
   "metadata": {},
   "outputs": [],
   "source": [
    "from xcube_cci.dataaccess import CciOdpDataStore"
   ]
  },
  {
   "cell_type": "code",
   "execution_count": 2,
   "metadata": {},
   "outputs": [],
   "source": [
    "from xcube.util.ipython import enable_asyncio\n",
    "enable_asyncio()"
   ]
  },
  {
   "cell_type": "markdown",
   "metadata": {},
   "source": [
    "---\n",
    "Now we can create the store."
   ]
  },
  {
   "cell_type": "code",
   "execution_count": 3,
   "metadata": {},
   "outputs": [],
   "source": [
    "cci_store = CciOdpDataStore()"
   ]
  },
  {
   "cell_type": "markdown",
   "metadata": {},
   "source": [
    "We can check what types of data it provides ..."
   ]
  },
  {
   "cell_type": "code",
   "execution_count": 4,
   "metadata": {},
   "outputs": [
    {
     "data": {
      "text/plain": [
       "(dataset, dataset[cube])"
      ]
     },
     "execution_count": 4,
     "metadata": {},
     "output_type": "execute_result"
    }
   ],
   "source": [
    "cci_store.get_type_specifiers()"
   ]
  },
  {
   "cell_type": "markdown",
   "metadata": {},
   "source": [
    "There are many store methods which offer the parameter *type_specifier*. This parameter is optional, but if it is used, it must be one of the above. If it is not used, the default is used, which is the first entry in the tuple (i.e, 'dataset').\n",
    "\n",
    "Now, let's have a look what data sets are available as cubes. "
   ]
  },
  {
   "cell_type": "code",
   "execution_count": 5,
   "metadata": {},
   "outputs": [
    {
     "data": {
      "text/plain": [
       "['esacci.AEROSOL.climatology.L3.AAI.multi-sensor.multi-platform.MSAAI.1-7.r1',\n",
       " 'esacci.AEROSOL.day.L3.AAI.multi-sensor.multi-platform.MSAAI.1-7.r1',\n",
       " 'esacci.AEROSOL.day.L3C.AER_PRODUCTS.AATSR.Envisat.ADV.2-31.r1',\n",
       " 'esacci.AEROSOL.day.L3C.AER_PRODUCTS.AATSR.Envisat.SU.4-3.r1',\n",
       " 'esacci.AEROSOL.day.L3C.AER_PRODUCTS.ATSR-2.ERS-2.ADV.2-31.r1',\n",
       " 'esacci.AEROSOL.day.L3C.AER_PRODUCTS.ATSR-2.ERS-2.SU.4-3.r1',\n",
       " 'esacci.AEROSOL.day.L3C.AER_PRODUCTS.multi-sensor.multi-platform.AATSR-ENVISAT-ENS_DAILY.v2-6.r1',\n",
       " 'esacci.AEROSOL.day.L3C.AOD.MERIS.Envisat.MERIS_ENVISAT.2-2.r1',\n",
       " 'esacci.AEROSOL.mon.L3.AAI.multi-sensor.multi-platform.MSAAI.1-7.r1',\n",
       " 'esacci.AEROSOL.mon.L3C.AER_PRODUCTS.AATSR.Envisat.ADV.2-31.r1',\n",
       " 'esacci.AEROSOL.mon.L3C.AER_PRODUCTS.AATSR.Envisat.SU.4-3.r1',\n",
       " 'esacci.AEROSOL.mon.L3C.AER_PRODUCTS.ATSR-2.ERS-2.ADV.2-31.r1',\n",
       " 'esacci.AEROSOL.mon.L3C.AER_PRODUCTS.multi-sensor.multi-platform.AATSR-ENVISAT-ENS_MONTHLY.v2-6.r1',\n",
       " 'esacci.AEROSOL.mon.L3C.AER_PRODUCTS.multi-sensor.multi-platform.ATSR2-ENVISAT-ENS_MONTHLY.v2-6.r1',\n",
       " 'esacci.AEROSOL.mon.L3C.AOD.MERIS.Envisat.MERIS_ENVISAT.2-2.r1',\n",
       " 'esacci.AEROSOL.yr.L3C.AER_PRODUCTS.AATSR.Envisat.AATSR-ENVISAT-ENS_ANNUAL.v2-6.r1',\n",
       " 'esacci.AEROSOL.yr.L3C.AER_PRODUCTS.ATSR-2.Envisat.ATSR2-ENVISAT-ENS_ANNUAL.v2-6.r1',\n",
       " 'esacci.ICESHEETS.unspecified.Unspecified.CFL.multi-sensor.multi-platform.UNSPECIFIED.v3-0.greenland',\n",
       " 'esacci.ICESHEETS.unspecified.Unspecified.GLL.multi-sensor.multi-platform.UNSPECIFIED.v1-3.greenland',\n",
       " 'esacci.ICESHEETS.unspecified.Unspecified.IV.AMI-SAR.ERS-1.UNSPECIFIED.1-1.greenland_northern_drainage_basin_winter_1991_1992',\n",
       " 'esacci.ICESHEETS.unspecified.Unspecified.IV.AMI-SAR.ERS-2.UNSPECIFIED.1-1.greenland_margin_1995_1996',\n",
       " 'esacci.ICESHEETS.unspecified.Unspecified.IV.MSI-(Sentinel-2).Sentinel-2A.UNSPECIFIED.1-0.greenland_s2_50m_20160508_20160518_docker_smith',\n",
       " 'esacci.ICESHEETS.unspecified.Unspecified.IV.MSI-(Sentinel-2).multi-platform.UNSPECIFIED.1-1.greenland_s2_50m_seasonal_20170501_20170829_Helheim',\n",
       " 'esacci.ICESHEETS.unspecified.Unspecified.IV.MSI-(Sentinel-2).multi-platform.UNSPECIFIED.1-1.greenland_s2_50m_seasonal_20170501_20170914_Petermann',\n",
       " 'esacci.ICESHEETS.unspecified.Unspecified.IV.MSI-(Sentinel-2).multi-platform.UNSPECIFIED.1-1.greenland_s2_50m_seasonal_20170603_20170908_Jakobshavn',\n",
       " 'esacci.ICESHEETS.unspecified.Unspecified.IV.MSI-(Sentinel-2).multi-platform.UNSPECIFIED.1-1.greenland_s2_50m_seasonal_20170625_20170810_79Fjord',\n",
       " 'esacci.ICESHEETS.unspecified.Unspecified.IV.MSI-(Sentinel-2).multi-platform.UNSPECIFIED.1-1.greenland_s2_50m_seasonal_20170625_20170810_Zachariae',\n",
       " 'esacci.ICESHEETS.unspecified.Unspecified.IV.MSI-(Sentinel-2).multi-platform.UNSPECIFIED.1-1.greenland_s2_50m_seasonal_20170630_20170814_Hagen',\n",
       " 'esacci.ICESHEETS.unspecified.Unspecified.IV.MSI-(Sentinel-2).multi-platform.UNSPECIFIED.1-1.greenland_s2_50m_seasonal_20170715_20170814_Upernavik',\n",
       " 'esacci.ICESHEETS.unspecified.Unspecified.IV.MSI-(Sentinel-2).multi-platform.UNSPECIFIED.1-1.greenland_s2_50m_seasonal_20170721_20170820_Kangerdlugssuaq',\n",
       " 'esacci.ICESHEETS.unspecified.Unspecified.IV.MSI-(Sentinel-2).multi-platform.UNSPECIFIED.1-1.greenland_s2_50m_timeseries_20170501_20170829_Helheim',\n",
       " 'esacci.ICESHEETS.unspecified.Unspecified.IV.MSI-(Sentinel-2).multi-platform.UNSPECIFIED.1-1.greenland_s2_50m_timeseries_20170501_20170914_Petermann',\n",
       " 'esacci.ICESHEETS.unspecified.Unspecified.IV.MSI-(Sentinel-2).multi-platform.UNSPECIFIED.1-1.greenland_s2_50m_timeseries_20170603_20170908_Jakobshavn',\n",
       " 'esacci.ICESHEETS.unspecified.Unspecified.IV.MSI-(Sentinel-2).multi-platform.UNSPECIFIED.1-1.greenland_s2_50m_timeseries_20170625_20170810_79Fjord',\n",
       " 'esacci.ICESHEETS.unspecified.Unspecified.IV.MSI-(Sentinel-2).multi-platform.UNSPECIFIED.1-1.greenland_s2_50m_timeseries_20170625_20170810_Zachariae',\n",
       " 'esacci.ICESHEETS.unspecified.Unspecified.IV.MSI-(Sentinel-2).multi-platform.UNSPECIFIED.1-1.greenland_s2_50m_timeseries_20170630_20170814_Hagen',\n",
       " 'esacci.ICESHEETS.unspecified.Unspecified.IV.MSI-(Sentinel-2).multi-platform.UNSPECIFIED.1-1.greenland_s2_50m_timeseries_20170715_20170814_Upernavik',\n",
       " 'esacci.ICESHEETS.unspecified.Unspecified.IV.MSI-(Sentinel-2).multi-platform.UNSPECIFIED.1-1.greenland_s2_50m_timeseries_20170721_20170820_Kangerdlugssuaq',\n",
       " 'esacci.ICESHEETS.unspecified.Unspecified.IV.SAR-(RadarSat-2).RadarSat-2.UNSPECIFIED.1-0.greenland_map_winter_2013_2014',\n",
       " 'esacci.ICESHEETS.unspecified.Unspecified.IV.SAR-2000.multi-platform.UNSPECIFIED.1-0.greenland_csk_250m_timeseries_20120604_20141223_Jakobshavn',\n",
       " 'esacci.ICESHEETS.unspecified.Unspecified.IV.SAR-C-(Sentinel-1).Sentinel-1A.UNSPECIFIED.1-0.greenland_map_winter_2014_2015',\n",
       " 'esacci.ICESHEETS.unspecified.Unspecified.IV.multi-sensor.multi-platform.UNSPECIFIED.1-0.greenland_timeseries_Kangerlussuaq',\n",
       " 'esacci.ICESHEETS.unspecified.Unspecified.IV.multi-sensor.multi-platform.UNSPECIFIED.1-1.greenland_timeseries_Hagen',\n",
       " 'esacci.ICESHEETS.unspecified.Unspecified.IV.multi-sensor.multi-platform.UNSPECIFIED.1-1.greenland_timeseries_Helheim',\n",
       " 'esacci.ICESHEETS.unspecified.Unspecified.IV.multi-sensor.multi-platform.UNSPECIFIED.1-1.greenland_timeseries_Petermann',\n",
       " 'esacci.ICESHEETS.unspecified.Unspecified.IV.multi-sensor.multi-platform.UNSPECIFIED.1-1.greenland_timeseries_Storstrommen',\n",
       " 'esacci.ICESHEETS.unspecified.Unspecified.IV.multi-sensor.multi-platform.UNSPECIFIED.1-1.greenland_timeseries_Zachariae_79Fjord',\n",
       " 'esacci.ICESHEETS.unspecified.Unspecified.IV.multi-sensor.multi-platform.UNSPECIFIED.1-2.greenland_timeseries_1992_2010_Jakobshavn',\n",
       " 'esacci.ICESHEETS.unspecified.Unspecified.IV.multi-sensor.multi-platform.UNSPECIFIED.1-2.greenland_timeseries_Upernarvik',\n",
       " 'esacci.ICESHEETS.yr.Unspecified.IV.PALSAR.ALOS.UNSPECIFIED.1-1.greenland_margin_2006_2011',\n",
       " 'esacci.ICESHEETS.yr.Unspecified.SEC.SIRAL.CryoSat-2.UNSPECIFIED.2-2.greenland_sec_cryosat_2yr',\n",
       " 'esacci.ICESHEETS.yr.Unspecified.SEC.SIRAL.CryoSat-2.UNSPECIFIED.2-2.greenland_sec_cryosat_5yr',\n",
       " 'esacci.ICESHEETS.yr.Unspecified.SEC.multi-sensor.multi-platform.UNSPECIFIED.1-2.r1',\n",
       " 'esacci.LAKES.day.L3S.LK_PRODUCTS.multi-sensor.multi-platform.MERGED.v1-0.r1',\n",
       " 'esacci.OC.5-days.L3S.CHLOR_A.multi-sensor.multi-platform.MERGED.3-1.sinusoidal',\n",
       " 'esacci.OC.5-days.L3S.CHLOR_A.multi-sensor.multi-platform.MERGED.4-2.sinusoidal',\n",
       " 'esacci.OC.5-days.L3S.CHLOR_A.multi-sensor.multi-platform.MERGED.5-0.sinusoidal',\n",
       " 'esacci.OC.5-days.L3S.IOP.multi-sensor.multi-platform.MERGED.3-1.sinusoidal',\n",
       " 'esacci.OC.5-days.L3S.IOP.multi-sensor.multi-platform.MERGED.4-2.sinusoidal',\n",
       " 'esacci.OC.5-days.L3S.IOP.multi-sensor.multi-platform.MERGED.5-0.sinusoidal',\n",
       " 'esacci.OC.5-days.L3S.K_490.multi-sensor.multi-platform.MERGED.3-1.sinusoidal',\n",
       " 'esacci.OC.5-days.L3S.K_490.multi-sensor.multi-platform.MERGED.4-2.sinusoidal',\n",
       " 'esacci.OC.5-days.L3S.K_490.multi-sensor.multi-platform.MERGED.5-0.sinusoidal',\n",
       " 'esacci.OC.5-days.L3S.OC_PRODUCTS.multi-sensor.multi-platform.MERGED.3-1.sinusoidal',\n",
       " 'esacci.OC.5-days.L3S.OC_PRODUCTS.multi-sensor.multi-platform.MERGED.4-2.sinusoidal',\n",
       " 'esacci.OC.5-days.L3S.OC_PRODUCTS.multi-sensor.multi-platform.MERGED.5-0.sinusoidal',\n",
       " 'esacci.OC.5-days.L3S.RRS.multi-sensor.multi-platform.MERGED.3-1.sinusoidal',\n",
       " 'esacci.OC.5-days.L3S.RRS.multi-sensor.multi-platform.MERGED.4-2.sinusoidal',\n",
       " 'esacci.OC.5-days.L3S.RRS.multi-sensor.multi-platform.MERGED.5-0.sinusoidal',\n",
       " 'esacci.OC.8-days.L3S.CHLOR_A.multi-sensor.multi-platform.MERGED.3-1.sinusoidal',\n",
       " 'esacci.OC.8-days.L3S.CHLOR_A.multi-sensor.multi-platform.MERGED.4-2.sinusoidal',\n",
       " 'esacci.OC.8-days.L3S.CHLOR_A.multi-sensor.multi-platform.MERGED.5-0.sinusoidal',\n",
       " 'esacci.OC.8-days.L3S.IOP.multi-sensor.multi-platform.MERGED.3-1.sinusoidal',\n",
       " 'esacci.OC.8-days.L3S.IOP.multi-sensor.multi-platform.MERGED.4-2.sinusoidal',\n",
       " 'esacci.OC.8-days.L3S.IOP.multi-sensor.multi-platform.MERGED.5-0.sinusoidal',\n",
       " 'esacci.OC.8-days.L3S.K_490.multi-sensor.multi-platform.MERGED.3-1.sinusoidal',\n",
       " 'esacci.OC.8-days.L3S.K_490.multi-sensor.multi-platform.MERGED.4-2.sinusoidal',\n",
       " 'esacci.OC.8-days.L3S.K_490.multi-sensor.multi-platform.MERGED.5-0.sinusoidal',\n",
       " 'esacci.OC.8-days.L3S.OC_PRODUCTS.multi-sensor.multi-platform.MERGED.3-1.sinusoidal',\n",
       " 'esacci.OC.8-days.L3S.OC_PRODUCTS.multi-sensor.multi-platform.MERGED.4-2.sinusoidal',\n",
       " 'esacci.OC.8-days.L3S.OC_PRODUCTS.multi-sensor.multi-platform.MERGED.5-0.sinusoidal',\n",
       " 'esacci.OC.8-days.L3S.RRS.multi-sensor.multi-platform.MERGED.3-1.sinusoidal',\n",
       " 'esacci.OC.8-days.L3S.RRS.multi-sensor.multi-platform.MERGED.4-2.sinusoidal',\n",
       " 'esacci.OC.8-days.L3S.RRS.multi-sensor.multi-platform.MERGED.5-0.sinusoidal',\n",
       " 'esacci.OC.climatology.L4.OC_PRODUCTS.multi-sensor.multi-platform.UNSPECIFIED.5-0.r1',\n",
       " 'esacci.OC.day.L3S.CHLOR_A.multi-sensor.multi-platform.MERGED.3-1.sinusoidal',\n",
       " 'esacci.OC.day.L3S.CHLOR_A.multi-sensor.multi-platform.MERGED.4-2.sinusoidal',\n",
       " 'esacci.OC.day.L3S.CHLOR_A.multi-sensor.multi-platform.MERGED.5-0.sinusoidal',\n",
       " 'esacci.OC.day.L3S.IOP.multi-sensor.multi-platform.MERGED.3-1.sinusoidal',\n",
       " 'esacci.OC.day.L3S.IOP.multi-sensor.multi-platform.MERGED.4-2.geographic',\n",
       " 'esacci.OC.day.L3S.IOP.multi-sensor.multi-platform.MERGED.4-2.sinusoidal',\n",
       " 'esacci.OC.day.L3S.IOP.multi-sensor.multi-platform.MERGED.5-0.geographic',\n",
       " 'esacci.OC.day.L3S.IOP.multi-sensor.multi-platform.MERGED.5-0.sinusoidal',\n",
       " 'esacci.OC.day.L3S.K_490.multi-sensor.multi-platform.MERGED.3-1.sinusoidal',\n",
       " 'esacci.OC.day.L3S.K_490.multi-sensor.multi-platform.MERGED.4-2.sinusoidal',\n",
       " 'esacci.OC.day.L3S.K_490.multi-sensor.multi-platform.MERGED.5-0.sinusoidal',\n",
       " 'esacci.OC.day.L3S.OC_PRODUCTS.multi-sensor.multi-platform.MERGED.3-1.geographic',\n",
       " 'esacci.OC.day.L3S.OC_PRODUCTS.multi-sensor.multi-platform.MERGED.3-1.sinusoidal',\n",
       " 'esacci.OC.day.L3S.OC_PRODUCTS.multi-sensor.multi-platform.MERGED.4-2.geographic',\n",
       " 'esacci.OC.day.L3S.OC_PRODUCTS.multi-sensor.multi-platform.MERGED.4-2.sinusoidal',\n",
       " 'esacci.OC.day.L3S.OC_PRODUCTS.multi-sensor.multi-platform.MERGED.5-0.geographic',\n",
       " 'esacci.OC.day.L3S.OC_PRODUCTS.multi-sensor.multi-platform.MERGED.5-0.sinusoidal',\n",
       " 'esacci.OC.day.L3S.RRS.multi-sensor.multi-platform.MERGED.3-1.sinusoidal',\n",
       " 'esacci.OC.day.L3S.RRS.multi-sensor.multi-platform.MERGED.4-2.sinusoidal',\n",
       " 'esacci.OC.day.L3S.RRS.multi-sensor.multi-platform.MERGED.5-0.sinusoidal',\n",
       " 'esacci.OC.mon.L3S.CHLOR_A.multi-sensor.multi-platform.MERGED.3-1.sinusoidal',\n",
       " 'esacci.OC.mon.L3S.CHLOR_A.multi-sensor.multi-platform.MERGED.4-2.sinusoidal',\n",
       " 'esacci.OC.mon.L3S.CHLOR_A.multi-sensor.multi-platform.MERGED.5-0.sinusoidal',\n",
       " 'esacci.OC.mon.L3S.IOP.multi-sensor.multi-platform.MERGED.3-1.sinusoidal',\n",
       " 'esacci.OC.mon.L3S.IOP.multi-sensor.multi-platform.MERGED.4-2.sinusoidal',\n",
       " 'esacci.OC.mon.L3S.IOP.multi-sensor.multi-platform.MERGED.5-0.sinusoidal',\n",
       " 'esacci.OC.mon.L3S.K_490.multi-sensor.multi-platform.MERGED.3-1.sinusoidal',\n",
       " 'esacci.OC.mon.L3S.K_490.multi-sensor.multi-platform.MERGED.4-2.sinusoidal',\n",
       " 'esacci.OC.mon.L3S.K_490.multi-sensor.multi-platform.MERGED.5-0.sinusoidal',\n",
       " 'esacci.OC.mon.L3S.OC_PRODUCTS.multi-sensor.multi-platform.MERGED.3-1.sinusoidal',\n",
       " 'esacci.OC.mon.L3S.OC_PRODUCTS.multi-sensor.multi-platform.MERGED.4-2.sinusoidal',\n",
       " 'esacci.OC.mon.L3S.OC_PRODUCTS.multi-sensor.multi-platform.MERGED.5-0.sinusoidal',\n",
       " 'esacci.OC.mon.L3S.RRS.multi-sensor.multi-platform.MERGED.3-1.sinusoidal',\n",
       " 'esacci.OC.mon.L3S.RRS.multi-sensor.multi-platform.MERGED.4-2.sinusoidal',\n",
       " 'esacci.OC.mon.L3S.RRS.multi-sensor.multi-platform.MERGED.5-0.sinusoidal',\n",
       " 'esacci.OZONE.day.L3S.TC.multi-sensor.multi-platform.MERGED.fv0100.r1',\n",
       " 'esacci.PERMAFROST.yr.L4.ALT.multi-sensor.multi-platform.ERA5_MODISLST_BIASCORRECTED.03-0.r1',\n",
       " 'esacci.PERMAFROST.yr.L4.ALT.multi-sensor.multi-platform.MODISLST_CRYOGRID.03-0.r1',\n",
       " 'esacci.PERMAFROST.yr.L4.GTD.multi-sensor.multi-platform.ERA5_MODISLST_BIASCORRECTED.03-0.r1',\n",
       " 'esacci.PERMAFROST.yr.L4.GTD.multi-sensor.multi-platform.MODISLST_CRYOGRID.03-0.r1',\n",
       " 'esacci.PERMAFROST.yr.L4.PFR.multi-sensor.multi-platform.ERA5_MODISLST_BIASCORRECTED.03-0.r1',\n",
       " 'esacci.PERMAFROST.yr.L4.PFR.multi-sensor.multi-platform.MODISLST_CRYOGRID.03-0.r1',\n",
       " 'esacci.SEALEVEL.10-days.L3.SLA.multi-sensor.multi-platform.NE_ATL.1-1.r1',\n",
       " 'esacci.SEALEVEL.10-days.L3.SLA.multi-sensor.multi-platform.N_INDIAN.1-1.r1',\n",
       " 'esacci.SEALEVEL.10-days.L3.SLA.multi-sensor.multi-platform.SE_ASIA.1-1.r1',\n",
       " 'esacci.SEALEVEL.10-days.L3.SLA.multi-sensor.multi-platform.S_AUSTRALIA.1-1.r1',\n",
       " 'esacci.SEALEVEL.10-days.L3.SLA.multi-sensor.multi-platform.WAFRICA.1-1.r1',\n",
       " 'esacci.SEALEVEL.mon.IND.MSLAMPH.multi-sensor.multi-platform.MERGED.2-0.r1',\n",
       " 'esacci.SEALEVEL.mon.IND.MSLTR.multi-sensor.multi-platform.MERGED.2-0.r1',\n",
       " 'esacci.SEALEVEL.unspecified.L3.SLA.multi-sensor.multi-platform.MED_SEA.1-1.r1',\n",
       " 'esacci.SOILMOISTURE.day.L3S.SSMS.multi-sensor.multi-platform.ACTIVE.v05-3.r1']"
      ]
     },
     "execution_count": 5,
     "metadata": {},
     "output_type": "execute_result"
    }
   ],
   "source": [
    "datasets = cci_store.get_data_ids(type_specifier='dataset[cube]')\n",
    "list(datasets)"
   ]
  },
  {
   "cell_type": "markdown",
   "metadata": {},
   "source": [
    "This might have been a bit much. In case you are looking for particular data sets, you can search for them. You can list which search options are available:"
   ]
  },
  {
   "cell_type": "code",
   "execution_count": 6,
   "metadata": {},
   "outputs": [
    {
     "data": {
      "application/json": {
       "additionalProperties": false,
       "properties": {
        "bbox": {
         "items": [
          {
           "type": "number"
          },
          {
           "type": "number"
          },
          {
           "type": "number"
          },
          {
           "type": "number"
          }
         ],
         "type": "array"
        },
        "data_type": {
         "enum": [
          "ALT",
          "SWE",
          "AOD",
          "LP",
          "SSMV",
          "GMB",
          "WB",
          "SLA",
          "SSMS",
          "RRS",
          "LCCS",
          "IV",
          "TC",
          "SWH",
          "SCFV",
          "GLL",
          "SICONC",
          "LK_PRODUCTS",
          "PFR",
          "IOP",
          "CO2",
          "K_490",
          "OC_PRODUCTS",
          "SSTdepth",
          "AEX",
          "MSLTR",
          "GTD",
          "MSL",
          "CH4",
          "SCFG",
          "AAI",
          "BA",
          "SEC",
          "CHLOR_A",
          "SSTskin",
          "CFL",
          "AER_PRODUCTS",
          "CLD_PRODUCTS",
          "MSLAMPH",
          "MSLA",
          "AGB",
          "NP",
          "SSS",
          "SITHICK"
         ],
         "type": "string"
        },
        "ecv": {
         "enum": [
          "OZONE",
          "SEASTATE",
          "SEASURFACESALINITY",
          "SNOW",
          "AEROSOL",
          "SST",
          "FIRE",
          "LC",
          "SEAICE",
          "SOILMOISTURE",
          "OC",
          "CLOUD",
          "PERMAFROST",
          "SEALEVEL",
          "BIOMASS",
          "GHG",
          "ICESHEETS",
          "LAKES"
         ],
         "type": "string"
        },
        "end_date": {
         "format": "date-time",
         "type": "string"
        },
        "frequency": {
         "enum": [
          "day",
          "8 days",
          "year",
          "5 days",
          "unspecified",
          "15 days",
          "month",
          "13 years",
          "10 days",
          "climatology",
          "satellite-orbit-frequency"
         ],
         "type": "string"
        },
        "institute": {
         "enum": [
          "Plymouth Marine Laboratory",
          "Alfred-Wegener-Institut Helmholtz-Zentrum für Polar- und Meeresforschung",
          "ENVironmental Earth Observation IT GmbH",
          "multi-institution",
          "DTU Space",
          "Vienna University of Technology",
          "Deutscher Wetterdienst",
          "Netherlands Institute for Space Research",
          "Technische Universität Dresden",
          "Institute of Environmental Physics",
          "Rutherford Appleton Laboratory",
          "Universite Catholique de Louvain",
          "University of Alcala",
          "University of Leicester",
          "Norwegian Meteorological Institute",
          "University of Bremen",
          "Belgian Institute for Space Aeronomy",
          "Deutsches Zentrum fuer Luft- und Raumfahrt",
          "Freie Universitaet Berlin",
          "Royal Netherlands Meteorological Institute",
          "The Geological Survey of Denmark and Greenland"
         ],
         "type": "string"
        },
        "platform": {
         "enum": [
          "OCO-2",
          "Jason-3",
          "GOSAT",
          "ERS-2",
          "Sentinel-1A",
          "GFO",
          "NOAA-7",
          "RadarSat-2",
          "NOAA-15",
          "Topex-Poseidon",
          "NOAA-18",
          "NOAA-16",
          "Terra",
          "Aqua",
          "SARAL",
          "Sentinel-2A",
          "ALOS",
          "Jason-2",
          "Sentinel-5P",
          "multi-platform",
          "Envisat",
          "CryoSat-2",
          "Jason-1",
          "NOAA-9",
          "ERS-1",
          "Unspecified",
          "Metop-A",
          "NOAA-11",
          "ODIN",
          "NOAA-19",
          "GRACE",
          "NOAA-17",
          "NOAA-14",
          "NOAA-12"
         ],
         "type": "string"
        },
        "processing_level": {
         "enum": [
          "L4",
          "L3U",
          "L3C",
          "L2P",
          "L3",
          "Unspecified",
          "IND",
          "L2",
          "L3S"
         ],
         "type": "string"
        },
        "product_string": {
         "enum": [
          "MZM",
          "AVHRR15_G",
          "SRFP",
          "MED_SEA",
          "AATSR",
          "AVHRR11_G",
          "ERS-2",
          "AVHRR-PM",
          "GFO",
          "N_INDIAN",
          "AVHRR07_G",
          "ADV",
          "AMSR_25kmEASE2",
          "AATSR-ENVISAT-ENS",
          "ERS-1",
          "AATSR-ENVISAT-ENS_DAILY",
          "VARIOUS",
          "AERGOM",
          "MERGED",
          "MERIS_ENVISAT",
          "SE_ASIA",
          "NH",
          "BESD",
          "GMPE",
          "Map",
          "AATSR-ENVISAT-ENS_ANNUAL",
          "AVHRR19_G",
          "SH50KMEASE2",
          "Saral",
          "MULTI_1D",
          "ATSR2-ENVISAT-ENS_ANNUAL",
          "Jason-2",
          "ATSR2",
          "CryoSat-2",
          "COMBINED",
          "ATSR2-ENVISAT-ENS",
          "ERA5_MODISLST_BIASCORRECTED",
          "IMAP",
          "GOMOS_ENVISAT",
          "SCIAMACHY_ENVISAT",
          "OSTIA",
          "AVHRR14_G",
          "MODIS_AQUA",
          "MODIS_TERRA",
          "MSI",
          "AVHRRMTA_G",
          "MSAAI",
          "EMMA",
          "OCFP",
          "OCPR",
          "ACTIVE",
          "AVHRR16_G",
          "SU",
          "AVHRR09_G",
          "AVHRR17_G",
          "Envisat",
          "SRPR",
          "ATSR1",
          "ATSR2-AATSR",
          "S_AUSTRALIA",
          "WAFRICA",
          "MERGED_OI_7DAY_RUNNINGMEAN_DAILY_25km",
          "AMSR_50kmEASE2",
          "AVHRR12_G",
          "NH25KMEASE2",
          "MODISLST_CRYOGRID",
          "Jason-3",
          "SMR_ODIN",
          "AVHRR-AM",
          "MERGED_OI_Monthly_CENTRED_15Day_25km",
          "SH",
          "PASSIVE",
          "Topex-Poseidon",
          "MERIS-AATSR",
          "AVHRR18_G",
          "AVHRR_MERGED",
          "Jason-1",
          "AATSR-ENVISAT-ENS_MONTHLY",
          "ATSR2-ENVISAT-ENS_DAILY",
          "ORAC",
          "ATSR2-ENVISAT-ENS_MONTHLY",
          "MULTI_1M",
          "WFMD",
          "OSIRIS_ODIN",
          "MIPAS_ENVISAT",
          "NE_ATL",
          "UNSPECIFIED"
         ],
         "type": "string"
        },
        "product_version": {
         "enum": [
          "v1-2",
          "v1-0",
          "1-5",
          "fv0100",
          "v06-1",
          "v4-0",
          "v2-2a",
          "1-2",
          "v2-2b",
          "fv0002",
          "2-0-7",
          "1-7",
          "3-1",
          "3-00",
          "v0001",
          "v08",
          "05-2",
          "v5-1",
          "ch4_v1-2",
          "2-2",
          "1-3",
          "5-0",
          "v1-1",
          "4-0",
          "04-01_seg-",
          "v7-2",
          "v02-01-02",
          "4-2",
          "4-3",
          "v05-3",
          "v2-2c",
          "03-0",
          "04-01-",
          "2-31",
          "1-4",
          "v7-0",
          "1-1",
          "v7-0-1",
          "1-0",
          "v2-3-8",
          "v2-6",
          "04-01",
          "2-1",
          "2-0",
          "v1-3",
          "3-0",
          "v2-1",
          "v3-0"
         ],
         "type": "string"
        },
        "sensor": {
         "enum": [
          "GOMOS",
          "SCIAMACHY",
          "multi-sensor",
          "GRACE-instrument",
          "SAR-2000",
          "GFO-RA",
          "AATSR",
          "SAR-(RadarSat-2)",
          "ATSR",
          "OSIRIS",
          "Poseidon-3",
          "OCO",
          "Poseidon-2",
          "MIPAS",
          "AltiKa",
          "ATSR-2",
          "MERIS",
          "AMI-SAR",
          "MODIS",
          "SMR",
          "RA-2",
          "PALSAR",
          "Unspecified",
          "MSI-(Sentinel-2)",
          "AVHRR-3",
          "NRA",
          "RA",
          "Poseidon-3B",
          "SAR-C-(Sentinel-1)",
          "SIRAL",
          "AVHRR-2",
          "ASAR",
          "TROPOMI",
          "TANSO-FTS"
         ],
         "type": "string"
        },
        "start_date": {
         "format": "date-time",
         "type": "string"
        }
       },
       "type": "object"
      },
      "text/plain": [
       "<xcube.util.jsonschema.JsonObjectSchema at 0x7fbecf98d3a0>"
      ]
     },
     "execution_count": 6,
     "metadata": {},
     "output_type": "execute_result"
    }
   ],
   "source": [
    "cci_store.get_search_params_schema()"
   ]
  },
  {
   "cell_type": "markdown",
   "metadata": {},
   "source": [
    "The parameters are listed under *properties*. Let's use *ecv* and *frequency*. The parameter *type_specifier* is always supported."
   ]
  },
  {
   "cell_type": "code",
   "execution_count": 7,
   "metadata": {},
   "outputs": [
    {
     "data": {
      "text/plain": [
       "['esacci.AEROSOL.mon.L3.AAI.multi-sensor.multi-platform.MSAAI.1-7.r1',\n",
       " 'esacci.AEROSOL.mon.L3C.AER_PRODUCTS.AATSR.Envisat.ADV.2-31.r1',\n",
       " 'esacci.AEROSOL.mon.L3C.AER_PRODUCTS.AATSR.Envisat.SU.4-3.r1',\n",
       " 'esacci.AEROSOL.mon.L3C.AER_PRODUCTS.ATSR-2.ERS-2.ADV.2-31.r1',\n",
       " 'esacci.AEROSOL.mon.L3C.AER_PRODUCTS.multi-sensor.multi-platform.AATSR-ENVISAT-ENS_MONTHLY.v2-6.r1',\n",
       " 'esacci.AEROSOL.mon.L3C.AER_PRODUCTS.multi-sensor.multi-platform.ATSR2-ENVISAT-ENS_MONTHLY.v2-6.r1',\n",
       " 'esacci.AEROSOL.mon.L3C.AOD.MERIS.Envisat.MERIS_ENVISAT.2-2.r1']"
      ]
     },
     "execution_count": 7,
     "metadata": {},
     "output_type": "execute_result"
    }
   ],
   "source": [
    "[descriptor.data_id for descriptor in cci_store.search_data(ecv='AEROSOL', frequency='month', type_specifier='dataset[cube]')]"
   ]
  },
  {
   "cell_type": "markdown",
   "metadata": {},
   "source": [
    "'esacci.AEROSOL.mon.L3.AAI.multi-sensor.multi-platform.MSAAI.1-7.r1' sounds interesting. Let's get more information about that one. Note that the description might be slightly different depending on the parameter *type_specifier*. E.g., in case you ask for a *dataset[cube]*, you can rely on that the data variables will have (at least) dimensions *time*, *lat*, and *lon*."
   ]
  },
  {
   "cell_type": "code",
   "execution_count": 8,
   "metadata": {},
   "outputs": [
    {
     "data": {
      "application/json": {
       "attrs": {
        "abstract": "The ESA Climate Change Initiative Aerosol project has produced a number of global aerosol Essential Climate Variable (ECV) products from a set of European satellite instruments with different characteristics.   This dataset comprises Level 3 Absorbing Aerosol Index (AAI) products, using the Multi-Sensor UVAI algorithm, Version 1.7.  L3 products are provided as daily and monthly gridded products as well as a monthly climatology. \n\nFor further details about these data products please see the linked documentation.",
        "catalog_url": "https://catalogue.ceda.ac.uk/uuid/2e656d34d016414c8d6bced18634772c",
        "cci_project": "AEROSOL",
        "comment": "Sun glint and solar eclipse events were filtered out.",
        "data_type": "AAI",
        "description": "Multi-Sensor AAI field for December 1978",
        "ecv": "AEROSOL",
        "history": "2017-07-24 09:13:46 - Product generated using create_msaai_monthly_products.pro",
        "institute": "Royal Netherlands Meteorological Institute",
        "licences": "Use of these data is covered by the following licence: http://licences.ceda.ac.uk/image/data_access_condition/esacci_aerosol_terms_and_conditions.pdf . When using these data you must cite them correctly using the citation given on the CEDA Data Catalogue record.",
        "platform_id": "multi-platform",
        "processing_level": "L3",
        "product_string": "MSAAI",
        "product_version": "1-7",
        "project": "Climate Change Initiative - European Space Agency",
        "publication_date": "2020-08-27T16:02:30",
        "references": "http://www.esa-aerosol-cci.org",
        "sensor_id": "multi-sensor",
        "source": "TOMS AAI version 8, GOME-1 AAI version 5.0, SCIAMACHY AAI version 5.1, OMI AAI version 1.1.1, GOME-2 AAI version 1.35",
        "title": "ESA Aerosol Climate Change Initiative (Aerosol_cci): Level 3 aerosol products  from the Multi-Sensor UV Absorbing Aerosol Index (MS UVAI) algorithm, Version 1.7",
        "uuid": "2e656d34d016414c8d6bced18634772c"
       },
       "bbox": [
        -180,
        -90,
        180,
        90
       ],
       "coords": {
        "latitude": {
         "attrs": {
          "data_type": "float32",
          "dimensions": [
           "latitude"
          ],
          "file_dimensions": [
           "latitude"
          ],
          "fill_value": null,
          "long_name": "Latitudes of the centre of the grid cells",
          "orig_data_type": "float32",
          "shape": [
           180
          ],
          "size": 180,
          "units": "degrees"
         },
         "dims": [
          "latitude"
         ],
         "dtype": "float32",
         "name": "latitude"
        },
        "longitude": {
         "attrs": {
          "data_type": "float32",
          "dimensions": [
           "longitude"
          ],
          "file_dimensions": [
           "longitude"
          ],
          "fill_value": null,
          "long_name": "Longitudes of the centre of the grid cells",
          "orig_data_type": "float32",
          "shape": [
           360
          ],
          "size": 360,
          "units": "degrees"
         },
         "dims": [
          "longitude"
         ],
         "dtype": "float32",
         "name": "longitude"
        },
        "time": {
         "attrs": {
          "calendar": "proleptic_gregorian",
          "standard_name": "time",
          "units": "seconds since 1970-01-01T00:00:00Z"
         },
         "dims": [
          "time"
         ],
         "dtype": "int64",
         "name": "time"
        }
       },
       "data_id": "esacci.AEROSOL.mon.L3.AAI.multi-sensor.multi-platform.MSAAI.1-7.r1",
       "data_vars": {
        "absorbing_aerosol_index": {
         "attrs": {
          "data_type": "float32",
          "dimensions": [
           "latitude",
           "longitude"
          ],
          "file_dimensions": [
           "latitude",
           "longitude"
          ],
          "fill_value": null,
          "long_name": "Absorbing aerosol index averaged for each grid cell",
          "orig_data_type": "float32",
          "shape": [
           180,
           360
          ],
          "size": 64800,
          "units": "1"
         },
         "dims": [
          "time",
          "lat",
          "lon"
         ],
         "dtype": "float32",
         "name": "absorbing_aerosol_index"
        },
        "number_of_observations": {
         "attrs": {
          "data_type": "int32",
          "dimensions": [
           "latitude",
           "longitude"
          ],
          "file_dimensions": [
           "latitude",
           "longitude"
          ],
          "fill_value": 2147483647,
          "long_name": "Number of observations for each grid cell",
          "orig_data_type": "int16",
          "shape": [
           180,
           360
          ],
          "size": 64800,
          "units": "1"
         },
         "dims": [
          "time",
          "lat",
          "lon"
         ],
         "dtype": "int32",
         "name": "number_of_observations"
        },
        "number_of_positive_observations": {
         "attrs": {
          "data_type": "int32",
          "dimensions": [
           "latitude",
           "longitude"
          ],
          "file_dimensions": [
           "latitude",
           "longitude"
          ],
          "fill_value": 2147483647,
          "long_name": "Number of positive observations for each grid cell",
          "orig_data_type": "int16",
          "shape": [
           180,
           360
          ],
          "size": 64800,
          "units": "1"
         },
         "dims": [
          "time",
          "lat",
          "lon"
         ],
         "dtype": "int32",
         "name": "number_of_positive_observations"
        },
        "positive_absorbing_aerosol_index": {
         "attrs": {
          "data_type": "float32",
          "dimensions": [
           "latitude",
           "longitude"
          ],
          "file_dimensions": [
           "latitude",
           "longitude"
          ],
          "fill_value": null,
          "long_name": "Positive absorbing aerosol index averaged for each grid cell",
          "orig_data_type": "float32",
          "shape": [
           180,
           360
          ],
          "size": 64800,
          "units": "1"
         },
         "dims": [
          "time",
          "lat",
          "lon"
         ],
         "dtype": "float32",
         "name": "positive_absorbing_aerosol_index"
        },
        "solar_zenith_angle": {
         "attrs": {
          "data_type": "float32",
          "dimensions": [
           "latitude",
           "longitude"
          ],
          "file_dimensions": [
           "latitude",
           "longitude"
          ],
          "fill_value": null,
          "long_name": "Solar zenith angle averaged for each grid cell",
          "orig_data_type": "float32",
          "shape": [
           180,
           360
          ],
          "size": 64800,
          "units": "degrees"
         },
         "dims": [
          "time",
          "lat",
          "lon"
         ],
         "dtype": "float32",
         "name": "solar_zenith_angle"
        }
       },
       "dims": {
        "lat": 180,
        "lon": 360,
        "time": 422
       },
       "open_params_schema": {
        "additionalProperties": false,
        "properties": {
         "bbox": {
          "items": [
           {
            "maximum": 180,
            "minimum": -180,
            "type": "number"
           },
           {
            "maximum": 90,
            "minimum": -90,
            "type": "number"
           },
           {
            "maximum": 180,
            "minimum": -180,
            "type": "number"
           },
           {
            "maximum": 90,
            "minimum": -90,
            "type": "number"
           }
          ],
          "type": "array"
         },
         "time_range": {
          "items": [
           {
            "format": "date",
            "maxDate": "2015-12-31",
            "minDate": "1978-11-01",
            "type": "string"
           },
           {
            "format": "date",
            "maxDate": "2015-12-31",
            "minDate": "1978-11-01",
            "type": "string"
           }
          ],
          "type": "array"
         },
         "variable_names": {
          "items": {
           "enum": [
            "absorbing_aerosol_index",
            "number_of_observations",
            "solar_zenith_angle",
            "positive_absorbing_aerosol_index",
            "number_of_positive_observations"
           ],
           "type": "string"
          },
          "type": "array"
         }
        },
        "type": "object"
       },
       "time_period": "1M",
       "time_range": [
        "1978-11-01",
        "2015-12-31"
       ],
       "type_specifier": "dataset[cube]"
      },
      "text/plain": [
       "<xcube.core.store.descriptor.DatasetDescriptor at 0x7fbecf9f8e20>"
      ]
     },
     "execution_count": 8,
     "metadata": {},
     "output_type": "execute_result"
    }
   ],
   "source": [
    "cci_store.describe_data('esacci.AEROSOL.mon.L3.AAI.multi-sensor.multi-platform.MSAAI.1-7.r1', 'dataset[cube]')"
   ]
  },
  {
   "cell_type": "markdown",
   "metadata": {},
   "source": [
    "Finally, we can have a look at which openers are provided by this store."
   ]
  },
  {
   "cell_type": "code",
   "execution_count": 9,
   "metadata": {},
   "outputs": [
    {
     "data": {
      "text/plain": [
       "('dataset:zarr:cciodp', 'dataset[cube]:zarr:cciodp')"
      ]
     },
     "execution_count": 9,
     "metadata": {},
     "output_type": "execute_result"
    }
   ],
   "source": [
    "cci_store.get_data_opener_ids()"
   ]
  },
  {
   "cell_type": "markdown",
   "metadata": {},
   "source": [
    "One of these can be used for datasets, the other one for cubes.\n",
    "\n",
    "Depending on the opener, there might be different opening parameters. Here is how you can view these parameters for a particular dataset (both parameters are optional)."
   ]
  },
  {
   "cell_type": "code",
   "execution_count": 10,
   "metadata": {},
   "outputs": [
    {
     "data": {
      "application/json": {
       "additionalProperties": false,
       "properties": {
        "bbox": {
         "items": [
          {
           "maximum": 180,
           "minimum": -180,
           "type": "number"
          },
          {
           "maximum": 90,
           "minimum": -90,
           "type": "number"
          },
          {
           "maximum": 180,
           "minimum": -180,
           "type": "number"
          },
          {
           "maximum": 90,
           "minimum": -90,
           "type": "number"
          }
         ],
         "type": "array"
        },
        "time_range": {
         "items": [
          {
           "format": "date",
           "maxDate": "2015-12-31",
           "minDate": "1978-11-01",
           "type": "string"
          },
          {
           "format": "date",
           "maxDate": "2015-12-31",
           "minDate": "1978-11-01",
           "type": "string"
          }
         ],
         "type": "array"
        },
        "variable_names": {
         "items": {
          "enum": [
           "absorbing_aerosol_index",
           "number_of_observations",
           "solar_zenith_angle",
           "positive_absorbing_aerosol_index",
           "number_of_positive_observations"
          ],
          "type": "string"
         },
         "type": "array"
        }
       },
       "type": "object"
      },
      "text/plain": [
       "<xcube.util.jsonschema.JsonObjectSchema at 0x7fbecf18bb80>"
      ]
     },
     "execution_count": 10,
     "metadata": {},
     "output_type": "execute_result"
    }
   ],
   "source": [
    "cci_store.get_open_data_params_schema(data_id='esacci.AEROSOL.mon.L3.AAI.multi-sensor.multi-platform.MSAAI.1-7.r1', opener_id='dataset[cube]:zarr:cciodp')"
   ]
  },
  {
   "cell_type": "markdown",
   "metadata": {},
   "source": [
    "Great! Now we are all set to open some cubes. Continue in [Ex1b-DCFS-Setup](./Ex1b-DCFS-CCI_access.ipynb) ..."
   ]
  }
 ],
 "metadata": {
  "kernelspec": {
   "display_name": "Python 3",
   "language": "python",
   "name": "python3"
  },
  "language_info": {
   "codemirror_mode": {
    "name": "ipython",
    "version": 3
   },
   "file_extension": ".py",
   "mimetype": "text/x-python",
   "name": "python",
   "nbconvert_exporter": "python",
   "pygments_lexer": "ipython3",
   "version": "3.9.5"
  }
 },
 "nbformat": 4,
 "nbformat_minor": 4
}
