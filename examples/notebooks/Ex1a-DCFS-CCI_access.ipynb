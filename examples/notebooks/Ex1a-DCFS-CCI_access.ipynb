{
 "cells": [
  {
   "cell_type": "markdown",
   "metadata": {},
   "source": [
    "## ESA CCI Open Data Portal access using xcube\n",
    "\n",
    "The aim of this notebook is to show how to query for all the data sets provided by the CCI ODP Store and how to get the neccessary information to create a data set cube.\n",
    "\n",
    "To run this Notebook, make sure the ESA CCI ODP / xcube Integration is setup correctly (see [Ex0-DCFS-Setup](./Ex0-DCFS-Setup.ipynb)).\n",
    "We begin with installing some necessary imports."
   ]
  },
  {
   "cell_type": "code",
   "execution_count": 1,
   "metadata": {},
   "outputs": [],
   "source": [
    "from xcube_cci.dataaccess import CciOdpDataStore"
   ]
  },
  {
   "cell_type": "markdown",
   "metadata": {},
   "source": [
    "Now we can create the store. The store takes one argument *normalize_data*. If you set it to *True*, several adjustments will be made to the data set so that it will conform to certain data conventions (e.g., 'latitude' and 'longitude' dimensions will be named 'lat' and 'lon', it is ensured that the data has a time dimension, etc.). If *normalize_data* is *False*, these adjustments will not be made. The default value is *True*."
   ]
  },
  {
   "cell_type": "code",
   "execution_count": 2,
   "metadata": {},
   "outputs": [],
   "source": [
    "cci_store = CciOdpDataStore(normalize_data=True)"
   ]
  },
  {
   "cell_type": "markdown",
   "metadata": {},
   "source": [
    "We can check what types of data it provides."
   ]
  },
  {
   "cell_type": "code",
   "execution_count": 3,
   "metadata": {},
   "outputs": [
    {
     "data": {
      "text/plain": [
       "('dataset',)"
      ]
     },
     "execution_count": 3,
     "metadata": {},
     "output_type": "execute_result"
    }
   ],
   "source": [
    "cci_store.get_data_types()"
   ]
  },
  {
   "cell_type": "markdown",
   "metadata": {},
   "source": [
    "All provided data are datasets. So, let's have a look what data sets are available. "
   ]
  },
  {
   "cell_type": "code",
   "execution_count": 4,
   "metadata": {},
   "outputs": [
    {
     "data": {
      "text/plain": [
       "['esacci.AEROSOL.5-days.L3C.AEX.GOMOS.Envisat.AERGOM.3-00.r1',\n",
       " 'esacci.AEROSOL.climatology.L3.AAI.multi-sensor.multi-platform.MSAAI.1-7.r1',\n",
       " 'esacci.AEROSOL.day.L3.AAI.multi-sensor.multi-platform.MSAAI.1-7.r1',\n",
       " 'esacci.AEROSOL.day.L3C.AER_PRODUCTS.AATSR.Envisat.ADV.2-31.r1',\n",
       " 'esacci.AEROSOL.day.L3C.AER_PRODUCTS.AATSR.Envisat.ORAC.04-01-.r1',\n",
       " 'esacci.AEROSOL.day.L3C.AER_PRODUCTS.AATSR.Envisat.ORAC.04-01_seg-.r1',\n",
       " 'esacci.AEROSOL.day.L3C.AER_PRODUCTS.AATSR.Envisat.SU.4-3.r1',\n",
       " 'esacci.AEROSOL.day.L3C.AER_PRODUCTS.ATSR-2.ERS-2.ADV.2-31.r1',\n",
       " 'esacci.AEROSOL.day.L3C.AER_PRODUCTS.ATSR-2.ERS-2.ORAC.04-01-.r1',\n",
       " 'esacci.AEROSOL.day.L3C.AER_PRODUCTS.ATSR-2.ERS-2.ORAC.04-01_seg-.r1',\n",
       " 'esacci.AEROSOL.day.L3C.AER_PRODUCTS.ATSR-2.ERS-2.SU.4-3.r1',\n",
       " 'esacci.AEROSOL.day.L3C.AER_PRODUCTS.multi-sensor.multi-platform.AATSR-ENVISAT-ENS_DAILY.v2-6.r1',\n",
       " 'esacci.AEROSOL.day.L3C.AER_PRODUCTS.multi-sensor.multi-platform.ATSR2-ENVISAT-ENS_DAILY.v2-6.r1',\n",
       " 'esacci.AEROSOL.day.L3C.AOD.MERIS.Envisat.MERIS_ENVISAT.2-2.r1',\n",
       " 'esacci.AEROSOL.mon.L3.AAI.multi-sensor.multi-platform.MSAAI.1-7.r1',\n",
       " 'esacci.AEROSOL.mon.L3C.AER_PRODUCTS.AATSR.Envisat.ADV.2-31.r1',\n",
       " 'esacci.AEROSOL.mon.L3C.AER_PRODUCTS.AATSR.Envisat.ORAC.04-01-.r1',\n",
       " 'esacci.AEROSOL.mon.L3C.AER_PRODUCTS.AATSR.Envisat.ORAC.04-01_seg-.r1',\n",
       " 'esacci.AEROSOL.mon.L3C.AER_PRODUCTS.AATSR.Envisat.SU.4-3.r1',\n",
       " 'esacci.AEROSOL.mon.L3C.AER_PRODUCTS.ATSR-2.ERS-2.ADV.2-31.r1',\n",
       " 'esacci.AEROSOL.mon.L3C.AER_PRODUCTS.ATSR-2.ERS-2.ORAC.04-01-.r1',\n",
       " 'esacci.AEROSOL.mon.L3C.AER_PRODUCTS.ATSR-2.ERS-2.ORAC.04-01_seg-.r1',\n",
       " 'esacci.AEROSOL.mon.L3C.AER_PRODUCTS.multi-sensor.multi-platform.AATSR-ENVISAT-ENS_MONTHLY.v2-6.r1',\n",
       " 'esacci.AEROSOL.mon.L3C.AER_PRODUCTS.multi-sensor.multi-platform.ATSR2-ENVISAT-ENS_MONTHLY.v2-6.r1',\n",
       " 'esacci.AEROSOL.mon.L3C.AOD.MERIS.Envisat.MERIS_ENVISAT.2-2.r1',\n",
       " 'esacci.AEROSOL.satellite-orbit-frequency.L2P.AER_PRODUCTS.AATSR.Envisat.AATSR-ENVISAT-ENS.v2-6.r1',\n",
       " 'esacci.AEROSOL.satellite-orbit-frequency.L2P.AER_PRODUCTS.AATSR.Envisat.ADV.2-31.r1',\n",
       " 'esacci.AEROSOL.satellite-orbit-frequency.L2P.AER_PRODUCTS.AATSR.Envisat.ORAC.04-01.r1',\n",
       " 'esacci.AEROSOL.satellite-orbit-frequency.L2P.AER_PRODUCTS.AATSR.Envisat.SU.4-3.r1',\n",
       " 'esacci.AEROSOL.satellite-orbit-frequency.L2P.AER_PRODUCTS.ATSR-2.ERS-2.ADV.2-31.r1',\n",
       " 'esacci.AEROSOL.satellite-orbit-frequency.L2P.AER_PRODUCTS.ATSR-2.ERS-2.ORAC.04-01.r1',\n",
       " 'esacci.AEROSOL.satellite-orbit-frequency.L2P.AER_PRODUCTS.ATSR-2.ERS-2.SU.4-3.r1',\n",
       " 'esacci.AEROSOL.satellite-orbit-frequency.L2P.AER_PRODUCTS.multi-sensor.multi-platform.ATSR2-ENVISAT-ENS.v2-6.r1',\n",
       " 'esacci.AEROSOL.satellite-orbit-frequency.L2P.AOD.MERIS.Envisat.MERIS_ENVISAT.2-2.r1',\n",
       " 'esacci.AEROSOL.yr.L3C.AER_PRODUCTS.AATSR.Envisat.AATSR-ENVISAT-ENS_ANNUAL.v2-6.r1',\n",
       " 'esacci.AEROSOL.yr.L3C.AER_PRODUCTS.ATSR-2.Envisat.ATSR2-ENVISAT-ENS_ANNUAL.v2-6.r1',\n",
       " 'esacci.BIOMASS.yr.L4.AGB.multi-sensor.multi-platform.MERGED.2-0.r1',\n",
       " 'esacci.BIOMASS.yr.L4.AGB.multi-sensor.multi-platform.MERGED.3-0.r1',\n",
       " 'esacci.CLOUD.mon.L3C.CLD_PRODUCTS.MODIS.Aqua.MODIS_AQUA.2-0.r1',\n",
       " 'esacci.CLOUD.mon.L3C.CLD_PRODUCTS.MODIS.Terra.MODIS_TERRA.2-0.r1',\n",
       " 'esacci.CLOUD.mon.L3C.CLD_PRODUCTS.multi-sensor.multi-platform.ATSR2-AATSR.3-0.r1',\n",
       " 'esacci.CLOUD.mon.L3C.CLD_PRODUCTS.multi-sensor.multi-platform.AVHRR-AM.3-0.r1',\n",
       " 'esacci.CLOUD.mon.L3C.CLD_PRODUCTS.multi-sensor.multi-platform.AVHRR-PM.3-0.r1',\n",
       " 'esacci.CLOUD.mon.L3C.CLD_PRODUCTS.multi-sensor.multi-platform.MERIS-AATSR.2-0.r1',\n",
       " 'esacci.FIRE.mon.L3S.BA.MODIS.Terra.MODIS_TERRA.v5-1.pixel',\n",
       " 'esacci.FIRE.mon.L3S.BA.MSI-(Sentinel-2).Sentinel-2A.MSI.2-0.pixel',\n",
       " 'esacci.FIRE.mon.L3S.BA.MSI-(Sentinel-2).Sentinel-2A.MSI.v1-1.pixel',\n",
       " 'esacci.FIRE.mon.L4.BA.MODIS.Terra.MODIS_TERRA.v5-1.grid',\n",
       " 'esacci.FIRE.mon.L4.BA.MSI-(Sentinel-2).Sentinel-2A.MSI.2-0.grid',\n",
       " 'esacci.FIRE.mon.L4.BA.MSI-(Sentinel-2).Sentinel-2A.MSI.v1-1.grid',\n",
       " 'esacci.GHG.satellite-orbit-frequency.L2.CH4.SCIAMACHY.Envisat.IMAP.v7-2.r1',\n",
       " 'esacci.GHG.satellite-orbit-frequency.L2.CH4.SCIAMACHY.Envisat.WFMD.v4-0.r1',\n",
       " 'esacci.GHG.satellite-orbit-frequency.L2.CH4.TANSO-FTS.GOSAT.EMMA.ch4_v1-2.r1',\n",
       " 'esacci.GHG.satellite-orbit-frequency.L2.CH4.TANSO-FTS.GOSAT.OCFP.v2-1.r1',\n",
       " 'esacci.GHG.satellite-orbit-frequency.L2.CH4.TANSO-FTS.GOSAT.OCPR.v7-0.r1',\n",
       " 'esacci.GHG.satellite-orbit-frequency.L2.CH4.TANSO-FTS.GOSAT.SRFP.v2-3-8.r1',\n",
       " 'esacci.GHG.satellite-orbit-frequency.L2.CH4.TANSO-FTS.GOSAT.SRPR.v2-3-8.r1',\n",
       " 'esacci.GHG.satellite-orbit-frequency.L2.CH4.TROPOMI.Sentinel-5P.WFMD.v1-2.r1',\n",
       " 'esacci.GHG.satellite-orbit-frequency.L2.CO2.OCO.OCO-2.FOCAL.v09.r1',\n",
       " 'esacci.GHG.satellite-orbit-frequency.L2.CO2.OCO.OCO-2.UNSPECIFIED.v08.r1',\n",
       " 'esacci.GHG.satellite-orbit-frequency.L2.CO2.SCIAMACHY.Envisat.BESD.v02-01-02.r1',\n",
       " 'esacci.GHG.satellite-orbit-frequency.L2.CO2.SCIAMACHY.Envisat.WFMD.v4-0.r1',\n",
       " 'esacci.GHG.satellite-orbit-frequency.L2.CO2.TANSO-FTS.GOSAT.EMMA.v2-2c.r1',\n",
       " 'esacci.GHG.satellite-orbit-frequency.L2.CO2.TANSO-FTS.GOSAT.OCFP.v7-0-1.r1',\n",
       " 'esacci.GHG.satellite-orbit-frequency.L2.CO2.TANSO-FTS.GOSAT.SRFP.v2-3-8.r1',\n",
       " 'esacci.GHG.satellite-orbit-frequency.L2.CO2.multi-sensor.multi-platform.EMMA.v2-2a.r1',\n",
       " 'esacci.GHG.satellite-orbit-frequency.L2.CO2.multi-sensor.multi-platform.EMMA.v2-2b.r1',\n",
       " 'esacci.ICESHEETS.mon.IND.GMB.GRACE-instrument.GRACE.VARIOUS.1-3.greenland_gmb_time_series',\n",
       " 'esacci.ICESHEETS.unspecified.L4.IV.SAR-C-(Sentinel-1).multi-platform.UNSPECIFIED.1-1.greenland_s1_250m_20150610_20170321_Helheim',\n",
       " 'esacci.ICESHEETS.unspecified.Unspecified.CFL.multi-sensor.multi-platform.UNSPECIFIED.v3-0.greenland',\n",
       " 'esacci.ICESHEETS.unspecified.Unspecified.GLL.multi-sensor.multi-platform.UNSPECIFIED.v1-3.greenland',\n",
       " 'esacci.ICESHEETS.unspecified.Unspecified.IV.AMI-SAR.ERS-1.UNSPECIFIED.1-1.greenland_northern_drainage_basin_winter_1991_1992',\n",
       " 'esacci.ICESHEETS.unspecified.Unspecified.IV.AMI-SAR.ERS-2.UNSPECIFIED.1-1.greenland_margin_1995_1996',\n",
       " 'esacci.ICESHEETS.unspecified.Unspecified.IV.MSI-(Sentinel-2).Sentinel-2A.UNSPECIFIED.1-0.greenland_s2_50m_20160508_20160518_docker_smith',\n",
       " 'esacci.ICESHEETS.unspecified.Unspecified.IV.MSI-(Sentinel-2).multi-platform.UNSPECIFIED.1-1.greenland_s2_50m_seasonal_20170501_20170829_Helheim',\n",
       " 'esacci.ICESHEETS.unspecified.Unspecified.IV.MSI-(Sentinel-2).multi-platform.UNSPECIFIED.1-1.greenland_s2_50m_seasonal_20170501_20170914_Petermann',\n",
       " 'esacci.ICESHEETS.unspecified.Unspecified.IV.MSI-(Sentinel-2).multi-platform.UNSPECIFIED.1-1.greenland_s2_50m_seasonal_20170603_20170908_Jakobshavn',\n",
       " 'esacci.ICESHEETS.unspecified.Unspecified.IV.MSI-(Sentinel-2).multi-platform.UNSPECIFIED.1-1.greenland_s2_50m_seasonal_20170625_20170810_79Fjord',\n",
       " 'esacci.ICESHEETS.unspecified.Unspecified.IV.MSI-(Sentinel-2).multi-platform.UNSPECIFIED.1-1.greenland_s2_50m_seasonal_20170625_20170810_Zachariae',\n",
       " 'esacci.ICESHEETS.unspecified.Unspecified.IV.MSI-(Sentinel-2).multi-platform.UNSPECIFIED.1-1.greenland_s2_50m_seasonal_20170630_20170814_Hagen',\n",
       " 'esacci.ICESHEETS.unspecified.Unspecified.IV.MSI-(Sentinel-2).multi-platform.UNSPECIFIED.1-1.greenland_s2_50m_seasonal_20170715_20170814_Upernavik',\n",
       " 'esacci.ICESHEETS.unspecified.Unspecified.IV.MSI-(Sentinel-2).multi-platform.UNSPECIFIED.1-1.greenland_s2_50m_seasonal_20170721_20170820_Kangerdlugssuaq',\n",
       " 'esacci.ICESHEETS.unspecified.Unspecified.IV.MSI-(Sentinel-2).multi-platform.UNSPECIFIED.1-1.greenland_s2_50m_timeseries_20170501_20170829_Helheim',\n",
       " 'esacci.ICESHEETS.unspecified.Unspecified.IV.MSI-(Sentinel-2).multi-platform.UNSPECIFIED.1-1.greenland_s2_50m_timeseries_20170501_20170914_Petermann',\n",
       " 'esacci.ICESHEETS.unspecified.Unspecified.IV.MSI-(Sentinel-2).multi-platform.UNSPECIFIED.1-1.greenland_s2_50m_timeseries_20170603_20170908_Jakobshavn',\n",
       " 'esacci.ICESHEETS.unspecified.Unspecified.IV.MSI-(Sentinel-2).multi-platform.UNSPECIFIED.1-1.greenland_s2_50m_timeseries_20170625_20170810_79Fjord',\n",
       " 'esacci.ICESHEETS.unspecified.Unspecified.IV.MSI-(Sentinel-2).multi-platform.UNSPECIFIED.1-1.greenland_s2_50m_timeseries_20170625_20170810_Zachariae',\n",
       " 'esacci.ICESHEETS.unspecified.Unspecified.IV.MSI-(Sentinel-2).multi-platform.UNSPECIFIED.1-1.greenland_s2_50m_timeseries_20170630_20170814_Hagen',\n",
       " 'esacci.ICESHEETS.unspecified.Unspecified.IV.MSI-(Sentinel-2).multi-platform.UNSPECIFIED.1-1.greenland_s2_50m_timeseries_20170715_20170814_Upernavik',\n",
       " 'esacci.ICESHEETS.unspecified.Unspecified.IV.MSI-(Sentinel-2).multi-platform.UNSPECIFIED.1-1.greenland_s2_50m_timeseries_20170721_20170820_Kangerdlugssuaq',\n",
       " 'esacci.ICESHEETS.unspecified.Unspecified.IV.SAR-(RadarSat-2).RadarSat-2.UNSPECIFIED.1-0.greenland_map_winter_2013_2014',\n",
       " 'esacci.ICESHEETS.unspecified.Unspecified.IV.SAR-2000.multi-platform.UNSPECIFIED.1-0.greenland_csk_250m_timeseries_20120604_20141223_Jakobshavn',\n",
       " 'esacci.ICESHEETS.unspecified.Unspecified.IV.SAR-C-(Sentinel-1).Sentinel-1A.UNSPECIFIED.1-0.greenland_map_winter_2014_2015',\n",
       " 'esacci.ICESHEETS.unspecified.Unspecified.IV.SAR-C-(Sentinel-1).Sentinel-1A.UNSPECIFIED.1-2.greenland_map_winter_2015_2016',\n",
       " 'esacci.ICESHEETS.unspecified.Unspecified.IV.SAR-C-(Sentinel-1).multi-platform.UNSPECIFIED.1-0.greenland_map_winter_2016_2017',\n",
       " 'esacci.ICESHEETS.unspecified.Unspecified.IV.SAR-C-(Sentinel-1).multi-platform.UNSPECIFIED.1-0.greenland_map_winter_2017_2018',\n",
       " 'esacci.ICESHEETS.unspecified.Unspecified.IV.SAR-C-(Sentinel-1).multi-platform.UNSPECIFIED.1-1.greenland_s1_250m_20141010_20170317_Upernavik',\n",
       " 'esacci.ICESHEETS.unspecified.Unspecified.IV.SAR-C-(Sentinel-1).multi-platform.UNSPECIFIED.1-1.greenland_s1_250m_20141011_20170317_20150122_20170322_Hagen',\n",
       " 'esacci.ICESHEETS.unspecified.Unspecified.IV.SAR-C-(Sentinel-1).multi-platform.UNSPECIFIED.1-1.greenland_s1_250m_20141011_20170317_Jakobshavn',\n",
       " 'esacci.ICESHEETS.unspecified.Unspecified.IV.SAR-C-(Sentinel-1).multi-platform.UNSPECIFIED.1-1.greenland_s1_250m_20150118_20170321_Kangerlussuaq',\n",
       " 'esacci.ICESHEETS.unspecified.Unspecified.IV.SAR-C-(Sentinel-1).multi-platform.UNSPECIFIED.1-1.greenland_s1_250m_20150122_20170319_Petermann',\n",
       " 'esacci.ICESHEETS.unspecified.Unspecified.IV.SAR-C-(Sentinel-1).multi-platform.UNSPECIFIED.1-1.greenland_s1_250m_20150122_20170322_79-Fjord',\n",
       " 'esacci.ICESHEETS.unspecified.Unspecified.IV.SAR-C-(Sentinel-1).multi-platform.UNSPECIFIED.1-1.greenland_s1_250m_20150124_20170322_Storstroemmen',\n",
       " 'esacci.ICESHEETS.unspecified.Unspecified.IV.SAR-C-(Sentinel-1).multi-platform.UNSPECIFIED.1-1.greenland_s1_250m_20150126_20170322_Zachariae',\n",
       " 'esacci.ICESHEETS.unspecified.Unspecified.IV.multi-sensor.multi-platform.UNSPECIFIED.1-0.greenland_timeseries_Kangerlussuaq',\n",
       " 'esacci.ICESHEETS.unspecified.Unspecified.IV.multi-sensor.multi-platform.UNSPECIFIED.1-1.greenland_timeseries_2002_2010_Jakobshavn',\n",
       " 'esacci.ICESHEETS.unspecified.Unspecified.IV.multi-sensor.multi-platform.UNSPECIFIED.1-1.greenland_timeseries_Hagen',\n",
       " 'esacci.ICESHEETS.unspecified.Unspecified.IV.multi-sensor.multi-platform.UNSPECIFIED.1-1.greenland_timeseries_Helheim',\n",
       " 'esacci.ICESHEETS.unspecified.Unspecified.IV.multi-sensor.multi-platform.UNSPECIFIED.1-1.greenland_timeseries_Petermann',\n",
       " 'esacci.ICESHEETS.unspecified.Unspecified.IV.multi-sensor.multi-platform.UNSPECIFIED.1-1.greenland_timeseries_Storstrommen',\n",
       " 'esacci.ICESHEETS.unspecified.Unspecified.IV.multi-sensor.multi-platform.UNSPECIFIED.1-1.greenland_timeseries_Zachariae_79Fjord',\n",
       " 'esacci.ICESHEETS.unspecified.Unspecified.IV.multi-sensor.multi-platform.UNSPECIFIED.1-2.greenland_timeseries_1992_2010_Jakobshavn',\n",
       " 'esacci.ICESHEETS.unspecified.Unspecified.IV.multi-sensor.multi-platform.UNSPECIFIED.1-2.greenland_timeseries_Upernarvik',\n",
       " 'esacci.ICESHEETS.yr.Unspecified.GMB.GRACE-instrument.GRACE.UNSPECIFIED.1-2.greenland_gmb_mass_trends',\n",
       " 'esacci.ICESHEETS.yr.Unspecified.GMB.GRACE-instrument.GRACE.UNSPECIFIED.1-2.greenland_gmb_timeseries',\n",
       " 'esacci.ICESHEETS.yr.Unspecified.GMB.GRACE-instrument.GRACE.UNSPECIFIED.1-3.greenland_gmb_mass_trends',\n",
       " 'esacci.ICESHEETS.yr.Unspecified.GMB.GRACE-instrument.GRACE.UNSPECIFIED.1-4.greenland_gmb_mass_trends',\n",
       " 'esacci.ICESHEETS.yr.Unspecified.GMB.GRACE-instrument.GRACE.UNSPECIFIED.1-4.greenland_gmb_time_series',\n",
       " 'esacci.ICESHEETS.yr.Unspecified.GMB.GRACE-instrument.GRACE.UNSPECIFIED.1-5.greenland_gmb_mass_trends',\n",
       " 'esacci.ICESHEETS.yr.Unspecified.GMB.GRACE-instrument.GRACE.UNSPECIFIED.1-5.greenland_gmb_time_series',\n",
       " 'esacci.ICESHEETS.yr.Unspecified.IV.PALSAR.ALOS.UNSPECIFIED.1-1.greenland_margin_2006_2011',\n",
       " 'esacci.ICESHEETS.yr.Unspecified.SEC.SIRAL.CryoSat-2.UNSPECIFIED.2-2.greenland_sec_cryosat_2yr',\n",
       " 'esacci.ICESHEETS.yr.Unspecified.SEC.SIRAL.CryoSat-2.UNSPECIFIED.2-2.greenland_sec_cryosat_5yr',\n",
       " 'esacci.ICESHEETS.yr.Unspecified.SEC.multi-sensor.multi-platform.UNSPECIFIED.1-2.r1',\n",
       " 'esacci.LAKES.day.L3S.LK_PRODUCTS.multi-sensor.multi-platform.MERGED.v1-0.r1',\n",
       " 'esacci.LAKES.day.L3S.LK_PRODUCTS.multi-sensor.multi-platform.MERGED.v1-1.r1',\n",
       " 'esacci.LC.13-yrs.L4.WB.ASAR.Envisat.Map.4-0.r1',\n",
       " 'esacci.LC.yr.L4.LCCS.multi-sensor.multi-platform.Map.2-0-7.r1',\n",
       " 'esacci.OC.5-days.L3S.CHLOR_A.multi-sensor.multi-platform.MERGED.3-1.geographic',\n",
       " 'esacci.OC.5-days.L3S.CHLOR_A.multi-sensor.multi-platform.MERGED.3-1.sinusoidal',\n",
       " 'esacci.OC.5-days.L3S.CHLOR_A.multi-sensor.multi-platform.MERGED.4-2.geographic',\n",
       " 'esacci.OC.5-days.L3S.CHLOR_A.multi-sensor.multi-platform.MERGED.4-2.sinusoidal',\n",
       " 'esacci.OC.5-days.L3S.CHLOR_A.multi-sensor.multi-platform.MERGED.5-0.geographic',\n",
       " 'esacci.OC.5-days.L3S.CHLOR_A.multi-sensor.multi-platform.MERGED.5-0.sinusoidal',\n",
       " 'esacci.OC.5-days.L3S.IOP.multi-sensor.multi-platform.MERGED.3-1.geographic',\n",
       " 'esacci.OC.5-days.L3S.IOP.multi-sensor.multi-platform.MERGED.3-1.sinusoidal',\n",
       " 'esacci.OC.5-days.L3S.IOP.multi-sensor.multi-platform.MERGED.4-2.geographic',\n",
       " 'esacci.OC.5-days.L3S.IOP.multi-sensor.multi-platform.MERGED.4-2.sinusoidal',\n",
       " 'esacci.OC.5-days.L3S.IOP.multi-sensor.multi-platform.MERGED.5-0.geographic',\n",
       " 'esacci.OC.5-days.L3S.IOP.multi-sensor.multi-platform.MERGED.5-0.sinusoidal',\n",
       " 'esacci.OC.5-days.L3S.K_490.multi-sensor.multi-platform.MERGED.3-1.geographic',\n",
       " 'esacci.OC.5-days.L3S.K_490.multi-sensor.multi-platform.MERGED.3-1.sinusoidal',\n",
       " 'esacci.OC.5-days.L3S.K_490.multi-sensor.multi-platform.MERGED.4-2.geographic',\n",
       " 'esacci.OC.5-days.L3S.K_490.multi-sensor.multi-platform.MERGED.4-2.sinusoidal',\n",
       " 'esacci.OC.5-days.L3S.K_490.multi-sensor.multi-platform.MERGED.5-0.geographic',\n",
       " 'esacci.OC.5-days.L3S.K_490.multi-sensor.multi-platform.MERGED.5-0.sinusoidal',\n",
       " 'esacci.OC.5-days.L3S.OC_PRODUCTS.multi-sensor.multi-platform.MERGED.3-1.geographic',\n",
       " 'esacci.OC.5-days.L3S.OC_PRODUCTS.multi-sensor.multi-platform.MERGED.3-1.sinusoidal',\n",
       " 'esacci.OC.5-days.L3S.OC_PRODUCTS.multi-sensor.multi-platform.MERGED.4-2.geographic',\n",
       " 'esacci.OC.5-days.L3S.OC_PRODUCTS.multi-sensor.multi-platform.MERGED.4-2.sinusoidal',\n",
       " 'esacci.OC.5-days.L3S.OC_PRODUCTS.multi-sensor.multi-platform.MERGED.5-0.geographic',\n",
       " 'esacci.OC.5-days.L3S.OC_PRODUCTS.multi-sensor.multi-platform.MERGED.5-0.sinusoidal',\n",
       " 'esacci.OC.5-days.L3S.RRS.multi-sensor.multi-platform.MERGED.3-1.geographic',\n",
       " 'esacci.OC.5-days.L3S.RRS.multi-sensor.multi-platform.MERGED.3-1.sinusoidal',\n",
       " 'esacci.OC.5-days.L3S.RRS.multi-sensor.multi-platform.MERGED.4-2.geographic',\n",
       " 'esacci.OC.5-days.L3S.RRS.multi-sensor.multi-platform.MERGED.4-2.sinusoidal',\n",
       " 'esacci.OC.5-days.L3S.RRS.multi-sensor.multi-platform.MERGED.5-0.geographic',\n",
       " 'esacci.OC.5-days.L3S.RRS.multi-sensor.multi-platform.MERGED.5-0.sinusoidal',\n",
       " 'esacci.OC.8-days.L3S.CHLOR_A.multi-sensor.multi-platform.MERGED.3-1.geographic',\n",
       " 'esacci.OC.8-days.L3S.CHLOR_A.multi-sensor.multi-platform.MERGED.3-1.sinusoidal',\n",
       " 'esacci.OC.8-days.L3S.CHLOR_A.multi-sensor.multi-platform.MERGED.4-2.geographic',\n",
       " 'esacci.OC.8-days.L3S.CHLOR_A.multi-sensor.multi-platform.MERGED.4-2.sinusoidal',\n",
       " 'esacci.OC.8-days.L3S.CHLOR_A.multi-sensor.multi-platform.MERGED.5-0.geographic',\n",
       " 'esacci.OC.8-days.L3S.CHLOR_A.multi-sensor.multi-platform.MERGED.5-0.sinusoidal',\n",
       " 'esacci.OC.8-days.L3S.IOP.multi-sensor.multi-platform.MERGED.3-1.geographic',\n",
       " 'esacci.OC.8-days.L3S.IOP.multi-sensor.multi-platform.MERGED.3-1.sinusoidal',\n",
       " 'esacci.OC.8-days.L3S.IOP.multi-sensor.multi-platform.MERGED.4-2.geographic',\n",
       " 'esacci.OC.8-days.L3S.IOP.multi-sensor.multi-platform.MERGED.4-2.sinusoidal',\n",
       " 'esacci.OC.8-days.L3S.IOP.multi-sensor.multi-platform.MERGED.5-0.geographic',\n",
       " 'esacci.OC.8-days.L3S.IOP.multi-sensor.multi-platform.MERGED.5-0.sinusoidal',\n",
       " 'esacci.OC.8-days.L3S.K_490.multi-sensor.multi-platform.MERGED.3-1.geographic',\n",
       " 'esacci.OC.8-days.L3S.K_490.multi-sensor.multi-platform.MERGED.3-1.sinusoidal',\n",
       " 'esacci.OC.8-days.L3S.K_490.multi-sensor.multi-platform.MERGED.4-2.geographic',\n",
       " 'esacci.OC.8-days.L3S.K_490.multi-sensor.multi-platform.MERGED.4-2.sinusoidal',\n",
       " 'esacci.OC.8-days.L3S.K_490.multi-sensor.multi-platform.MERGED.5-0.geographic',\n",
       " 'esacci.OC.8-days.L3S.K_490.multi-sensor.multi-platform.MERGED.5-0.sinusoidal',\n",
       " 'esacci.OC.8-days.L3S.OC_PRODUCTS.multi-sensor.multi-platform.MERGED.3-1.geographic',\n",
       " 'esacci.OC.8-days.L3S.OC_PRODUCTS.multi-sensor.multi-platform.MERGED.3-1.sinusoidal',\n",
       " 'esacci.OC.8-days.L3S.OC_PRODUCTS.multi-sensor.multi-platform.MERGED.4-2.geographic',\n",
       " 'esacci.OC.8-days.L3S.OC_PRODUCTS.multi-sensor.multi-platform.MERGED.4-2.sinusoidal',\n",
       " 'esacci.OC.8-days.L3S.OC_PRODUCTS.multi-sensor.multi-platform.MERGED.5-0.geographic',\n",
       " 'esacci.OC.8-days.L3S.OC_PRODUCTS.multi-sensor.multi-platform.MERGED.5-0.sinusoidal',\n",
       " 'esacci.OC.8-days.L3S.RRS.multi-sensor.multi-platform.MERGED.3-1.geographic',\n",
       " 'esacci.OC.8-days.L3S.RRS.multi-sensor.multi-platform.MERGED.3-1.sinusoidal',\n",
       " 'esacci.OC.8-days.L3S.RRS.multi-sensor.multi-platform.MERGED.4-2.geographic',\n",
       " 'esacci.OC.8-days.L3S.RRS.multi-sensor.multi-platform.MERGED.4-2.sinusoidal',\n",
       " 'esacci.OC.8-days.L3S.RRS.multi-sensor.multi-platform.MERGED.5-0.geographic',\n",
       " 'esacci.OC.8-days.L3S.RRS.multi-sensor.multi-platform.MERGED.5-0.sinusoidal',\n",
       " 'esacci.OC.climatology.L4.OC_PRODUCTS.multi-sensor.multi-platform.UNSPECIFIED.4-2.r1',\n",
       " 'esacci.OC.climatology.L4.OC_PRODUCTS.multi-sensor.multi-platform.UNSPECIFIED.5-0.r1',\n",
       " 'esacci.OC.day.L3S.CHLOR_A.multi-sensor.multi-platform.MERGED.3-1.geographic',\n",
       " 'esacci.OC.day.L3S.CHLOR_A.multi-sensor.multi-platform.MERGED.3-1.sinusoidal',\n",
       " 'esacci.OC.day.L3S.CHLOR_A.multi-sensor.multi-platform.MERGED.4-2.geographic',\n",
       " 'esacci.OC.day.L3S.CHLOR_A.multi-sensor.multi-platform.MERGED.4-2.sinusoidal',\n",
       " 'esacci.OC.day.L3S.CHLOR_A.multi-sensor.multi-platform.MERGED.5-0.geographic',\n",
       " 'esacci.OC.day.L3S.CHLOR_A.multi-sensor.multi-platform.MERGED.5-0.sinusoidal',\n",
       " 'esacci.OC.day.L3S.IOP.multi-sensor.multi-platform.MERGED.3-1.geographic',\n",
       " 'esacci.OC.day.L3S.IOP.multi-sensor.multi-platform.MERGED.3-1.sinusoidal',\n",
       " 'esacci.OC.day.L3S.IOP.multi-sensor.multi-platform.MERGED.4-2.geographic',\n",
       " 'esacci.OC.day.L3S.IOP.multi-sensor.multi-platform.MERGED.4-2.sinusoidal',\n",
       " 'esacci.OC.day.L3S.IOP.multi-sensor.multi-platform.MERGED.5-0.geographic',\n",
       " 'esacci.OC.day.L3S.IOP.multi-sensor.multi-platform.MERGED.5-0.sinusoidal',\n",
       " 'esacci.OC.day.L3S.K_490.multi-sensor.multi-platform.MERGED.3-1.geographic',\n",
       " 'esacci.OC.day.L3S.K_490.multi-sensor.multi-platform.MERGED.3-1.sinusoidal',\n",
       " 'esacci.OC.day.L3S.K_490.multi-sensor.multi-platform.MERGED.4-2.geographic',\n",
       " 'esacci.OC.day.L3S.K_490.multi-sensor.multi-platform.MERGED.4-2.sinusoidal',\n",
       " 'esacci.OC.day.L3S.K_490.multi-sensor.multi-platform.MERGED.5-0.geographic',\n",
       " 'esacci.OC.day.L3S.K_490.multi-sensor.multi-platform.MERGED.5-0.sinusoidal',\n",
       " 'esacci.OC.day.L3S.OC_PRODUCTS.multi-sensor.multi-platform.MERGED.3-1.geographic',\n",
       " 'esacci.OC.day.L3S.OC_PRODUCTS.multi-sensor.multi-platform.MERGED.3-1.sinusoidal',\n",
       " 'esacci.OC.day.L3S.OC_PRODUCTS.multi-sensor.multi-platform.MERGED.4-2.geographic',\n",
       " 'esacci.OC.day.L3S.OC_PRODUCTS.multi-sensor.multi-platform.MERGED.4-2.sinusoidal',\n",
       " 'esacci.OC.day.L3S.OC_PRODUCTS.multi-sensor.multi-platform.MERGED.5-0.geographic',\n",
       " 'esacci.OC.day.L3S.OC_PRODUCTS.multi-sensor.multi-platform.MERGED.5-0.sinusoidal',\n",
       " 'esacci.OC.day.L3S.RRS.multi-sensor.multi-platform.MERGED.3-1.geographic',\n",
       " 'esacci.OC.day.L3S.RRS.multi-sensor.multi-platform.MERGED.3-1.sinusoidal',\n",
       " 'esacci.OC.day.L3S.RRS.multi-sensor.multi-platform.MERGED.4-2.geographic',\n",
       " 'esacci.OC.day.L3S.RRS.multi-sensor.multi-platform.MERGED.4-2.sinusoidal',\n",
       " 'esacci.OC.day.L3S.RRS.multi-sensor.multi-platform.MERGED.5-0.geographic',\n",
       " 'esacci.OC.day.L3S.RRS.multi-sensor.multi-platform.MERGED.5-0.sinusoidal',\n",
       " 'esacci.OC.mon.L3S.CHLOR_A.multi-sensor.multi-platform.MERGED.3-1.geographic',\n",
       " 'esacci.OC.mon.L3S.CHLOR_A.multi-sensor.multi-platform.MERGED.3-1.sinusoidal',\n",
       " 'esacci.OC.mon.L3S.CHLOR_A.multi-sensor.multi-platform.MERGED.4-2.geographic',\n",
       " 'esacci.OC.mon.L3S.CHLOR_A.multi-sensor.multi-platform.MERGED.4-2.sinusoidal',\n",
       " 'esacci.OC.mon.L3S.CHLOR_A.multi-sensor.multi-platform.MERGED.5-0.geographic',\n",
       " 'esacci.OC.mon.L3S.CHLOR_A.multi-sensor.multi-platform.MERGED.5-0.sinusoidal',\n",
       " 'esacci.OC.mon.L3S.IOP.multi-sensor.multi-platform.MERGED.3-1.geographic',\n",
       " 'esacci.OC.mon.L3S.IOP.multi-sensor.multi-platform.MERGED.3-1.sinusoidal',\n",
       " 'esacci.OC.mon.L3S.IOP.multi-sensor.multi-platform.MERGED.4-2.geographic',\n",
       " 'esacci.OC.mon.L3S.IOP.multi-sensor.multi-platform.MERGED.4-2.sinusoidal',\n",
       " 'esacci.OC.mon.L3S.IOP.multi-sensor.multi-platform.MERGED.5-0.geographic',\n",
       " 'esacci.OC.mon.L3S.IOP.multi-sensor.multi-platform.MERGED.5-0.sinusoidal',\n",
       " 'esacci.OC.mon.L3S.K_490.multi-sensor.multi-platform.MERGED.3-1.geographic',\n",
       " 'esacci.OC.mon.L3S.K_490.multi-sensor.multi-platform.MERGED.3-1.sinusoidal',\n",
       " 'esacci.OC.mon.L3S.K_490.multi-sensor.multi-platform.MERGED.4-2.geographic',\n",
       " 'esacci.OC.mon.L3S.K_490.multi-sensor.multi-platform.MERGED.4-2.sinusoidal',\n",
       " 'esacci.OC.mon.L3S.K_490.multi-sensor.multi-platform.MERGED.5-0.geographic',\n",
       " 'esacci.OC.mon.L3S.K_490.multi-sensor.multi-platform.MERGED.5-0.sinusoidal',\n",
       " 'esacci.OC.mon.L3S.OC_PRODUCTS.multi-sensor.multi-platform.MERGED.3-1.geographic',\n",
       " 'esacci.OC.mon.L3S.OC_PRODUCTS.multi-sensor.multi-platform.MERGED.3-1.sinusoidal',\n",
       " 'esacci.OC.mon.L3S.OC_PRODUCTS.multi-sensor.multi-platform.MERGED.4-2.geographic',\n",
       " 'esacci.OC.mon.L3S.OC_PRODUCTS.multi-sensor.multi-platform.MERGED.4-2.sinusoidal',\n",
       " 'esacci.OC.mon.L3S.OC_PRODUCTS.multi-sensor.multi-platform.MERGED.5-0.geographic',\n",
       " 'esacci.OC.mon.L3S.OC_PRODUCTS.multi-sensor.multi-platform.MERGED.5-0.sinusoidal',\n",
       " 'esacci.OC.mon.L3S.RRS.multi-sensor.multi-platform.MERGED.3-1.geographic',\n",
       " 'esacci.OC.mon.L3S.RRS.multi-sensor.multi-platform.MERGED.3-1.sinusoidal',\n",
       " 'esacci.OC.mon.L3S.RRS.multi-sensor.multi-platform.MERGED.4-2.geographic',\n",
       " 'esacci.OC.mon.L3S.RRS.multi-sensor.multi-platform.MERGED.4-2.sinusoidal',\n",
       " 'esacci.OC.mon.L3S.RRS.multi-sensor.multi-platform.MERGED.5-0.geographic',\n",
       " 'esacci.OC.mon.L3S.RRS.multi-sensor.multi-platform.MERGED.5-0.sinusoidal',\n",
       " 'esacci.OZONE.day.L3S.TC.multi-sensor.multi-platform.MERGED.fv0100.r1',\n",
       " 'esacci.OZONE.mon.L3.LP.GOMOS.Envisat.GOMOS_ENVISAT.v0001.r1',\n",
       " 'esacci.OZONE.mon.L3.LP.MIPAS.Envisat.MIPAS_ENVISAT.v0001.r1',\n",
       " 'esacci.OZONE.mon.L3.LP.OSIRIS.ODIN.OSIRIS_ODIN.v0001.r1',\n",
       " 'esacci.OZONE.mon.L3.LP.SCIAMACHY.Envisat.SCIAMACHY_ENVISAT.v0001.r1',\n",
       " 'esacci.OZONE.mon.L3.LP.SMR.ODIN.MZM.v0001.r1',\n",
       " 'esacci.OZONE.mon.L3.LP.SMR.ODIN.SMR_ODIN.v0001.r1',\n",
       " 'esacci.OZONE.mon.L3.NP.multi-sensor.multi-platform.MERGED.fv0002.r1',\n",
       " 'esacci.PERMAFROST.yr.L4.ALT.multi-sensor.multi-platform.ERA5_MODISLST_BIASCORRECTED.03-0.r1',\n",
       " 'esacci.PERMAFROST.yr.L4.ALT.multi-sensor.multi-platform.MODISLST_CRYOGRID.03-0.r1',\n",
       " 'esacci.PERMAFROST.yr.L4.GTD.multi-sensor.multi-platform.ERA5_MODISLST_BIASCORRECTED.03-0.r1',\n",
       " 'esacci.PERMAFROST.yr.L4.GTD.multi-sensor.multi-platform.MODISLST_CRYOGRID.03-0.r1',\n",
       " 'esacci.PERMAFROST.yr.L4.PFR.multi-sensor.multi-platform.ERA5_MODISLST_BIASCORRECTED.03-0.r1',\n",
       " 'esacci.PERMAFROST.yr.L4.PFR.multi-sensor.multi-platform.MODISLST_CRYOGRID.03-0.r1',\n",
       " 'esacci.SEAICE.day.L4.SICONC.multi-sensor.multi-platform.AMSR_25kmEASE2.2-1.NH',\n",
       " 'esacci.SEAICE.day.L4.SICONC.multi-sensor.multi-platform.AMSR_25kmEASE2.2-1.SH',\n",
       " 'esacci.SEAICE.day.L4.SICONC.multi-sensor.multi-platform.AMSR_50kmEASE2.2-1.NH',\n",
       " 'esacci.SEAICE.day.L4.SICONC.multi-sensor.multi-platform.AMSR_50kmEASE2.2-1.SH',\n",
       " 'esacci.SEAICE.mon.L3C.SITHICK.RA-2.Envisat.NH25KMEASE2.2-0.r1',\n",
       " 'esacci.SEAICE.mon.L3C.SITHICK.RA-2.Envisat.SH50KMEASE2.2-0.r1',\n",
       " 'esacci.SEAICE.mon.L3C.SITHICK.SIRAL.CryoSat-2.NH25KMEASE2.2-0.r1',\n",
       " 'esacci.SEAICE.mon.L3C.SITHICK.SIRAL.CryoSat-2.SH50KMEASE2.2-0.r1',\n",
       " 'esacci.SEAICE.satellite-orbit-frequency.L2P.SITHICK.RA-2.Envisat.NH.2-0.r1',\n",
       " 'esacci.SEAICE.satellite-orbit-frequency.L2P.SITHICK.RA-2.Envisat.SH.2-0.r1',\n",
       " 'esacci.SEAICE.satellite-orbit-frequency.L2P.SITHICK.SIRAL.CryoSat-2.NH.2-0.r1',\n",
       " 'esacci.SEAICE.satellite-orbit-frequency.L2P.SITHICK.SIRAL.CryoSat-2.SH.2-0.r1',\n",
       " 'esacci.SEALEVEL.mon.IND.MSL.multi-sensor.multi-platform.MERGED.2-0.r1',\n",
       " 'esacci.SEALEVEL.mon.IND.MSLAMPH.multi-sensor.multi-platform.MERGED.2-0.r1',\n",
       " 'esacci.SEALEVEL.mon.IND.MSLTR.multi-sensor.multi-platform.MERGED.2-0.r1',\n",
       " 'esacci.SEALEVEL.mon.L4.MSLA.multi-sensor.multi-platform.MERGED.2-0.r1',\n",
       " 'esacci.SEASTATE.mon.L4.SWH.multi-sensor.multi-platform.MULTI_1M.1-1.r1',\n",
       " 'esacci.SEASTATE.satellite-orbit-frequency.L2P.SWH.AltiKa.SARAL.Saral.1-1.r1',\n",
       " 'esacci.SEASTATE.satellite-orbit-frequency.L2P.SWH.GFO-RA.GFO.GFO.1-1.r1',\n",
       " 'esacci.SEASTATE.satellite-orbit-frequency.L2P.SWH.NRA.Topex-Poseidon.Topex-Poseidon.1-1.r1',\n",
       " 'esacci.SEASTATE.satellite-orbit-frequency.L2P.SWH.Poseidon-2.Jason-1.Jason-1.1-1.r1',\n",
       " 'esacci.SEASTATE.satellite-orbit-frequency.L2P.SWH.Poseidon-3.Jason-2.Jason-2.1-1.r1',\n",
       " 'esacci.SEASTATE.satellite-orbit-frequency.L2P.SWH.Poseidon-3B.Jason-3.Jason-3.1-1.r1',\n",
       " 'esacci.SEASTATE.satellite-orbit-frequency.L2P.SWH.RA-2.Envisat.Envisat.1-1.r1',\n",
       " 'esacci.SEASTATE.satellite-orbit-frequency.L2P.SWH.RA.ERS-1.ERS-1.1-1.r1',\n",
       " 'esacci.SEASTATE.satellite-orbit-frequency.L2P.SWH.RA.ERS-2.ERS-2.1-1.r1',\n",
       " 'esacci.SEASTATE.satellite-orbit-frequency.L2P.SWH.SIRAL.CryoSat-2.CryoSat-2.1-1.r1',\n",
       " 'esacci.SEASTATE.satellite-orbit-frequency.L3.SWH.multi-sensor.multi-platform.MULTI_1D.1-1.r1',\n",
       " 'esacci.SEASURFACESALINITY.15-days.L4.SSS.multi-sensor.multi-platform.MERGED_OI_Monthly_CENTRED_15Day_25km.2-31.r1',\n",
       " 'esacci.SEASURFACESALINITY.15-days.L4.SSS.multi-sensor.multi-platform.MERGED_OI_Monthly_CENTRED_15Day_25km.3-21.r1',\n",
       " 'esacci.SEASURFACESALINITY.day.L4.SSS.multi-sensor.multi-platform.MERGED_OI_7DAY_RUNNINGMEAN_DAILY_25km.2-31.r1',\n",
       " 'esacci.SEASURFACESALINITY.day.L4.SSS.multi-sensor.multi-platform.MERGED_OI_7DAY_RUNNINGMEAN_DAILY_25km.3-21.r1',\n",
       " 'esacci.SNOW.day.L3C.SCFG.MODIS.Terra.MODIS_TERRA.1-0.r1',\n",
       " 'esacci.SNOW.day.L3C.SCFG.multi-sensor.multi-platform.AVHRR_MERGED.1-0.r1',\n",
       " 'esacci.SNOW.day.L3C.SCFV.MODIS.Terra.MODIS_TERRA.1-0.r1',\n",
       " 'esacci.SNOW.day.L3C.SCFV.multi-sensor.multi-platform.AVHRR_MERGED.1-0.r1',\n",
       " 'esacci.SNOW.day.L3C.SWE.multi-sensor.multi-platform.MERGED.1-0.r1',\n",
       " 'esacci.SOILMOISTURE.day.L3S.SSMS.multi-sensor.multi-platform.ACTIVE.05-2.r1',\n",
       " 'esacci.SOILMOISTURE.day.L3S.SSMS.multi-sensor.multi-platform.ACTIVE.v05-3.r1',\n",
       " 'esacci.SOILMOISTURE.day.L3S.SSMS.multi-sensor.multi-platform.ACTIVE.v06-1.r1',\n",
       " 'esacci.SOILMOISTURE.day.L3S.SSMV.multi-sensor.multi-platform.COMBINED.05-2.r1',\n",
       " 'esacci.SOILMOISTURE.day.L3S.SSMV.multi-sensor.multi-platform.COMBINED.v05-3.r1',\n",
       " 'esacci.SOILMOISTURE.day.L3S.SSMV.multi-sensor.multi-platform.COMBINED.v06-1.r1',\n",
       " 'esacci.SOILMOISTURE.day.L3S.SSMV.multi-sensor.multi-platform.PASSIVE.05-2.r1',\n",
       " 'esacci.SOILMOISTURE.day.L3S.SSMV.multi-sensor.multi-platform.PASSIVE.v05-3.r1',\n",
       " 'esacci.SOILMOISTURE.day.L3S.SSMV.multi-sensor.multi-platform.PASSIVE.v06-1.r1',\n",
       " 'esacci.SST.climatology.L4.SSTdepth.multi-sensor.multi-platform.OSTIA.2-1.r1',\n",
       " 'esacci.SST.day.L3C.SSTskin.AATSR.Envisat.AATSR.2-1.day',\n",
       " 'esacci.SST.day.L3C.SSTskin.AATSR.Envisat.AATSR.2-1.night',\n",
       " 'esacci.SST.day.L3C.SSTskin.ATSR-2.ERS-2.ATSR2.2-1.day',\n",
       " 'esacci.SST.day.L3C.SSTskin.ATSR-2.ERS-2.ATSR2.2-1.night',\n",
       " 'esacci.SST.day.L3C.SSTskin.ATSR.ERS-1.ATSR1.2-1.day',\n",
       " 'esacci.SST.day.L3C.SSTskin.ATSR.ERS-1.ATSR1.2-1.night',\n",
       " 'esacci.SST.day.L3C.SSTskin.AVHRR-2.NOAA-11.AVHRR11_G.2-1.day',\n",
       " 'esacci.SST.day.L3C.SSTskin.AVHRR-2.NOAA-11.AVHRR11_G.2-1.night',\n",
       " 'esacci.SST.day.L3C.SSTskin.AVHRR-2.NOAA-12.AVHRR12_G.2-1.day',\n",
       " 'esacci.SST.day.L3C.SSTskin.AVHRR-2.NOAA-12.AVHRR12_G.2-1.night',\n",
       " 'esacci.SST.day.L3C.SSTskin.AVHRR-2.NOAA-14.AVHRR14_G.2-1.day',\n",
       " 'esacci.SST.day.L3C.SSTskin.AVHRR-2.NOAA-14.AVHRR14_G.2-1.night',\n",
       " 'esacci.SST.day.L3C.SSTskin.AVHRR-2.NOAA-7.AVHRR07_G.2-1.day',\n",
       " 'esacci.SST.day.L3C.SSTskin.AVHRR-2.NOAA-7.AVHRR07_G.2-1.night',\n",
       " 'esacci.SST.day.L3C.SSTskin.AVHRR-2.NOAA-9.AVHRR09_G.2-1.day',\n",
       " 'esacci.SST.day.L3C.SSTskin.AVHRR-2.NOAA-9.AVHRR09_G.2-1.night',\n",
       " 'esacci.SST.day.L3C.SSTskin.AVHRR-3.Metop-A.AVHRRMTA_G.2-1.day',\n",
       " 'esacci.SST.day.L3C.SSTskin.AVHRR-3.Metop-A.AVHRRMTA_G.2-1.night',\n",
       " 'esacci.SST.day.L3C.SSTskin.AVHRR-3.NOAA-15.AVHRR15_G.2-1.day',\n",
       " 'esacci.SST.day.L3C.SSTskin.AVHRR-3.NOAA-15.AVHRR15_G.2-1.night',\n",
       " 'esacci.SST.day.L3C.SSTskin.AVHRR-3.NOAA-16.AVHRR16_G.2-1.day',\n",
       " 'esacci.SST.day.L3C.SSTskin.AVHRR-3.NOAA-16.AVHRR16_G.2-1.night',\n",
       " 'esacci.SST.day.L3C.SSTskin.AVHRR-3.NOAA-17.AVHRR17_G.2-1.day',\n",
       " 'esacci.SST.day.L3C.SSTskin.AVHRR-3.NOAA-17.AVHRR17_G.2-1.night',\n",
       " 'esacci.SST.day.L3C.SSTskin.AVHRR-3.NOAA-18.AVHRR18_G.2-1.day',\n",
       " 'esacci.SST.day.L3C.SSTskin.AVHRR-3.NOAA-18.AVHRR18_G.2-1.night',\n",
       " 'esacci.SST.day.L3C.SSTskin.AVHRR-3.NOAA-19.AVHRR19_G.2-1.day',\n",
       " 'esacci.SST.day.L3C.SSTskin.AVHRR-3.NOAA-19.AVHRR19_G.2-1.night',\n",
       " 'esacci.SST.day.L4.SSTdepth.multi-sensor.multi-platform.OSTIA.1-1.r1',\n",
       " 'esacci.SST.day.L4.SSTdepth.multi-sensor.multi-platform.OSTIA.2-1.anomaly',\n",
       " 'esacci.SST.day.L4.SSTdepth.multi-sensor.multi-platform.OSTIA.2-1.sst',\n",
       " 'esacci.SST.day.L4.SSTskin.Unspecified.Unspecified.GMPE.2-0.r1',\n",
       " 'esacci.SST.satellite-orbit-frequency.L2P.SSTskin.AATSR.Envisat.AATSR.2-1.r1',\n",
       " 'esacci.SST.satellite-orbit-frequency.L2P.SSTskin.ATSR-2.ERS-2.ATSR2.2-1.r1',\n",
       " 'esacci.SST.satellite-orbit-frequency.L2P.SSTskin.ATSR.ERS-1.ATSR1.2-1.r1',\n",
       " 'esacci.SST.satellite-orbit-frequency.L2P.SSTskin.AVHRR-2.NOAA-11.AVHRR11_G.2-1.r1',\n",
       " 'esacci.SST.satellite-orbit-frequency.L2P.SSTskin.AVHRR-2.NOAA-12.AVHRR12_G.2-1.r1',\n",
       " 'esacci.SST.satellite-orbit-frequency.L2P.SSTskin.AVHRR-2.NOAA-14.AVHRR14_G.2-1.r1',\n",
       " 'esacci.SST.satellite-orbit-frequency.L2P.SSTskin.AVHRR-2.NOAA-7.AVHRR07_G.2-1.r1',\n",
       " 'esacci.SST.satellite-orbit-frequency.L2P.SSTskin.AVHRR-2.NOAA-9.AVHRR09_G.2-1.r1',\n",
       " 'esacci.SST.satellite-orbit-frequency.L2P.SSTskin.AVHRR-3.Metop-A.AVHRRMTA_G.2-1.r1',\n",
       " 'esacci.SST.satellite-orbit-frequency.L2P.SSTskin.AVHRR-3.NOAA-15.AVHRR15_G.2-1.r1',\n",
       " 'esacci.SST.satellite-orbit-frequency.L2P.SSTskin.AVHRR-3.NOAA-16.AVHRR16_G.2-1.r1',\n",
       " 'esacci.SST.satellite-orbit-frequency.L2P.SSTskin.AVHRR-3.NOAA-17.AVHRR17_G.2-1.r1',\n",
       " 'esacci.SST.satellite-orbit-frequency.L2P.SSTskin.AVHRR-3.NOAA-18.AVHRR18_G.2-1.r1',\n",
       " 'esacci.SST.satellite-orbit-frequency.L2P.SSTskin.AVHRR-3.NOAA-19.AVHRR19_G.2-1.r1',\n",
       " 'esacci.SST.satellite-orbit-frequency.L3U.SSTskin.AATSR.Envisat.AATSR.2-1.r1',\n",
       " 'esacci.SST.satellite-orbit-frequency.L3U.SSTskin.ATSR-2.ERS-2.ATSR2.2-1.r1',\n",
       " 'esacci.SST.satellite-orbit-frequency.L3U.SSTskin.ATSR.ERS-1.ATSR1.2-1.r1',\n",
       " 'esacci.SST.satellite-orbit-frequency.L3U.SSTskin.AVHRR-2.NOAA-11.AVHRR11_G.2-1.r1',\n",
       " 'esacci.SST.satellite-orbit-frequency.L3U.SSTskin.AVHRR-2.NOAA-12.AVHRR12_G.2-1.r1',\n",
       " 'esacci.SST.satellite-orbit-frequency.L3U.SSTskin.AVHRR-2.NOAA-14.AVHRR14_G.2-1.r1',\n",
       " 'esacci.SST.satellite-orbit-frequency.L3U.SSTskin.AVHRR-2.NOAA-7.AVHRR07_G.2-1.r1',\n",
       " 'esacci.SST.satellite-orbit-frequency.L3U.SSTskin.AVHRR-2.NOAA-9.AVHRR09_G.2-1.r1',\n",
       " 'esacci.SST.satellite-orbit-frequency.L3U.SSTskin.AVHRR-3.Metop-A.AVHRRMTA_G.2-1.r1',\n",
       " 'esacci.SST.satellite-orbit-frequency.L3U.SSTskin.AVHRR-3.NOAA-15.AVHRR15_G.2-1.r1',\n",
       " 'esacci.SST.satellite-orbit-frequency.L3U.SSTskin.AVHRR-3.NOAA-16.AVHRR16_G.2-1.r1',\n",
       " 'esacci.SST.satellite-orbit-frequency.L3U.SSTskin.AVHRR-3.NOAA-17.AVHRR17_G.2-1.r1',\n",
       " 'esacci.SST.satellite-orbit-frequency.L3U.SSTskin.AVHRR-3.NOAA-18.AVHRR18_G.2-1.r1',\n",
       " 'esacci.SST.satellite-orbit-frequency.L3U.SSTskin.AVHRR-3.NOAA-19.AVHRR19_G.2-1.r1']"
      ]
     },
     "execution_count": 4,
     "metadata": {},
     "output_type": "execute_result"
    }
   ],
   "source": [
    "datasets = cci_store.get_data_ids()\n",
    "list(datasets)"
   ]
  },
  {
   "cell_type": "markdown",
   "metadata": {},
   "source": [
    "This might have been a bit much. In case you are looking for particular data sets, you can search for them. You can list which search options are available:"
   ]
  },
  {
   "cell_type": "code",
   "execution_count": 5,
   "metadata": {},
   "outputs": [
    {
     "data": {
      "application/json": {
       "additionalProperties": false,
       "properties": {
        "bbox": {
         "items": [
          {
           "type": "number"
          },
          {
           "type": "number"
          },
          {
           "type": "number"
          },
          {
           "type": "number"
          }
         ],
         "type": "array"
        },
        "cci_attrs": {
         "additionalProperties": false,
         "properties": {
          "data_type": {
           "enum": [
            "K_490",
            "GLL",
            "SICONC",
            "OC_PRODUCTS",
            "GTD",
            "LP",
            "CLD_PRODUCTS",
            "MSLTR",
            "ALT",
            "SSMS",
            "WB",
            "IV",
            "NP",
            "SSTskin",
            "IOP",
            "SCFG",
            "SITHICK",
            "AOD",
            "MSLA",
            "RRS",
            "LCCS",
            "SSS",
            "AEX",
            "MSL",
            "PFR",
            "AER_PRODUCTS",
            "SSMV",
            "SCFV",
            "BA",
            "CO2",
            "SSTdepth",
            "MSLAMPH",
            "AAI",
            "GMB",
            "SWH",
            "SWE",
            "AGB",
            "CFL",
            "SEC",
            "LK_PRODUCTS",
            "TC",
            "CH4",
            "CHLOR_A"
           ],
           "type": "string"
          },
          "ecv": {
           "enum": [
            "SEASTATE",
            "OZONE",
            "CLOUD",
            "PERMAFROST",
            "FIRE",
            "SEAICE",
            "BIOMASS",
            "LAKES",
            "LC",
            "SEASURFACESALINITY",
            "SOILMOISTURE",
            "SNOW",
            "GHG",
            "OC",
            "ICESHEETS",
            "SST",
            "SEALEVEL",
            "AEROSOL"
           ],
           "type": "string"
          },
          "frequency": {
           "enum": [
            "day",
            "13 years",
            "15 days",
            "satellite-orbit-frequency",
            "year",
            "month",
            "5 days",
            "climatology",
            "unspecified",
            "8 days"
           ],
           "type": "string"
          },
          "institute": {
           "enum": [
            "Alfred-Wegener-Institut Helmholtz-Zentrum für Polar- und Meeresforschung",
            "Plymouth Marine Laboratory",
            "ENVironmental Earth Observation IT GmbH",
            "multi-institution",
            "DTU Space",
            "Freie Universitaet Berlin",
            "Vienna University of Technology",
            "Deutscher Wetterdienst",
            "Netherlands Institute for Space Research",
            "Technische Universität Dresden",
            "Institute of Environmental Physics",
            "Rutherford Appleton Laboratory",
            "Universite Catholique de Louvain",
            "University of Alcala",
            "University of Leicester",
            "Norwegian Meteorological Institute",
            "University of Bremen",
            "Belgian Institute for Space Aeronomy",
            "Deutsches Zentrum fuer Luft- und Raumfahrt",
            "Royal Netherlands Meteorological Institute",
            "The Geological Survey of Denmark and Greenland"
           ],
           "type": "string"
          },
          "platform": {
           "enum": [
            "NOAA-12",
            "multi-platform",
            "ALOS",
            "NOAA-11",
            "GRACE",
            "NOAA-18",
            "Jason-1",
            "Sentinel-5P",
            "NOAA-14",
            "CryoSat-2",
            "NOAA-9",
            "Metop-A",
            "OCO-2",
            "NOAA-17",
            "Sentinel-1A",
            "Terra",
            "Topex-Poseidon",
            "NOAA-19",
            "GFO",
            "Jason-2",
            "ERS-2",
            "SARAL",
            "GOSAT",
            "ODIN",
            "Aqua",
            "Jason-3",
            "Unspecified",
            "Envisat",
            "NOAA-16",
            "ERS-1",
            "NOAA-15",
            "Sentinel-2A",
            "RadarSat-2",
            "NOAA-7"
           ],
           "type": "string"
          },
          "processing_level": {
           "enum": [
            "Unspecified",
            "L2",
            "L3",
            "L3S",
            "L4",
            "L3C",
            "L3U",
            "IND",
            "L2P"
           ],
           "type": "string"
          },
          "product_string": {
           "enum": [
            "AVHRR-AM",
            "ADV",
            "ATSR2-ENVISAT-ENS_DAILY",
            "AMSR_25kmEASE2",
            "WFMD",
            "AVHRR07_G",
            "AVHRR-PM",
            "ATSR2-ENVISAT-ENS",
            "AVHRR12_G",
            "BESD",
            "OSIRIS_ODIN",
            "ERS-2",
            "MODISLST_CRYOGRID",
            "MERGED_OI_7DAY_RUNNINGMEAN_DAILY_25km",
            "MERIS-AATSR",
            "MZM",
            "AATSR-ENVISAT-ENS_DAILY",
            "AATSR-ENVISAT-ENS",
            "AATSR-ENVISAT-ENS_MONTHLY",
            "AVHRR09_G",
            "AATSR-ENVISAT-ENS_ANNUAL",
            "SRFP",
            "MULTI_1M",
            "ATSR1",
            "VARIOUS",
            "UNSPECIFIED",
            "AVHRR_MERGED",
            "ATSR2",
            "AVHRR11_G",
            "GFO",
            "SMR_ODIN",
            "AVHRR15_G",
            "Jason-2",
            "OCPR",
            "ATSR2-AATSR",
            "NH25KMEASE2",
            "NH",
            "Envisat",
            "MODIS_TERRA",
            "IMAP",
            "ACTIVE",
            "ATSR2-ENVISAT-ENS_MONTHLY",
            "FOCAL",
            "MERIS_ENVISAT",
            "OSTIA",
            "Jason-1",
            "MSI",
            "MULTI_1D",
            "AVHRR18_G",
            "MIPAS_ENVISAT",
            "CryoSat-2",
            "SU",
            "Topex-Poseidon",
            "AVHRR17_G",
            "MODIS_AQUA",
            "AMSR_50kmEASE2",
            "GOMOS_ENVISAT",
            "AATSR",
            "AVHRR14_G",
            "COMBINED",
            "SH",
            "SH50KMEASE2",
            "ORAC",
            "OCFP",
            "EMMA",
            "ATSR2-ENVISAT-ENS_ANNUAL",
            "MSAAI",
            "AERGOM",
            "SCIAMACHY_ENVISAT",
            "GMPE",
            "MERGED",
            "AVHRR19_G",
            "PASSIVE",
            "SRPR",
            "AVHRRMTA_G",
            "MERGED_OI_Monthly_CENTRED_15Day_25km",
            "AVHRR16_G",
            "ERA5_MODISLST_BIASCORRECTED",
            "Jason-3",
            "ERS-1",
            "Saral",
            "Map"
           ],
           "type": "string"
          },
          "product_version": {
           "enum": [
            "v02.01.02",
            "ch4_v1.2",
            "v2.2a",
            "fv0100",
            "v7.0.1",
            "04.01_seg.",
            "v3.0",
            "v5.1",
            "v1.2",
            "04.01",
            "1.5",
            "v7.0",
            "v2.2b",
            "03.0",
            "v05.3",
            "v2.3.8",
            "v4.0",
            "1.1",
            "1.7",
            "v2.1",
            "3.1",
            "3.0",
            "v08",
            "2.1",
            "v2.6",
            "v09",
            "v2.2c",
            "1.2",
            "1.3",
            "v06.1",
            "v1.1",
            "1.0",
            "v0001",
            "fv0002",
            "v7.2",
            "05.2",
            "v1.3",
            "2.31",
            "3.00",
            "v1.0",
            "4.3",
            "2.0",
            "3.21",
            "2.2",
            "04.01.",
            "2.0.7",
            "1.4",
            "4.2",
            "4.0",
            "5.0"
           ],
           "type": "string"
          },
          "sensor": {
           "enum": [
            "SAR-2000",
            "Poseidon-3B",
            "AMI-SAR",
            "SMR",
            "SAR-C-(Sentinel-1)",
            "GRACE-instrument",
            "NRA",
            "Poseidon-2",
            "SIRAL",
            "MODIS",
            "RA",
            "TANSO-FTS",
            "AVHRR-3",
            "TROPOMI",
            "GFO-RA",
            "AltiKa",
            "multi-sensor",
            "AVHRR-2",
            "RA-2",
            "OSIRIS",
            "PALSAR",
            "ATSR",
            "OCO",
            "SCIAMACHY",
            "AATSR",
            "MIPAS",
            "Unspecified",
            "Poseidon-3",
            "MSI-(Sentinel-2)",
            "GOMOS",
            "ASAR",
            "MERIS",
            "SAR-(RadarSat-2)",
            "ATSR-2"
           ],
           "type": "string"
          }
         },
         "type": "object"
        },
        "end_date": {
         "format": "date-time",
         "type": "string"
        },
        "start_date": {
         "format": "date-time",
         "type": "string"
        }
       },
       "type": "object"
      },
      "text/plain": [
       "<xcube.util.jsonschema.JsonObjectSchema at 0x7f9a2e228fa0>"
      ]
     },
     "execution_count": 5,
     "metadata": {},
     "output_type": "execute_result"
    }
   ],
   "source": [
    "cci_store.get_search_params_schema()"
   ]
  },
  {
   "cell_type": "markdown",
   "metadata": {},
   "source": [
    "The parameters are listed under *properties*. *start_date*, *end_date* and *bbox* are standard search parameters that are also used by other stores. *cci_attrs* lists additional parameters that are specific for the cci store (again, listed under *properties*). Of these, let's use *ecv* and *frequency*."
   ]
  },
  {
   "cell_type": "code",
   "execution_count": 6,
   "metadata": {},
   "outputs": [
    {
     "data": {
      "text/plain": [
       "['esacci.AEROSOL.mon.L3.AAI.multi-sensor.multi-platform.MSAAI.1-7.r1',\n",
       " 'esacci.AEROSOL.mon.L3C.AER_PRODUCTS.AATSR.Envisat.ADV.2-31.r1',\n",
       " 'esacci.AEROSOL.mon.L3C.AER_PRODUCTS.AATSR.Envisat.ORAC.04-01-.r1',\n",
       " 'esacci.AEROSOL.mon.L3C.AER_PRODUCTS.AATSR.Envisat.ORAC.04-01_seg-.r1',\n",
       " 'esacci.AEROSOL.mon.L3C.AER_PRODUCTS.AATSR.Envisat.SU.4-3.r1',\n",
       " 'esacci.AEROSOL.mon.L3C.AER_PRODUCTS.ATSR-2.ERS-2.ADV.2-31.r1',\n",
       " 'esacci.AEROSOL.mon.L3C.AER_PRODUCTS.ATSR-2.ERS-2.ORAC.04-01-.r1',\n",
       " 'esacci.AEROSOL.mon.L3C.AER_PRODUCTS.ATSR-2.ERS-2.ORAC.04-01_seg-.r1',\n",
       " 'esacci.AEROSOL.mon.L3C.AER_PRODUCTS.multi-sensor.multi-platform.AATSR-ENVISAT-ENS_MONTHLY.v2-6.r1',\n",
       " 'esacci.AEROSOL.mon.L3C.AER_PRODUCTS.multi-sensor.multi-platform.ATSR2-ENVISAT-ENS_MONTHLY.v2-6.r1',\n",
       " 'esacci.AEROSOL.mon.L3C.AOD.MERIS.Envisat.MERIS_ENVISAT.2-2.r1']"
      ]
     },
     "execution_count": 6,
     "metadata": {},
     "output_type": "execute_result"
    }
   ],
   "source": [
    "cci_attrs=dict(ecv='AEROSOL', frequency='month')\n",
    "[descriptor.data_id for descriptor in cci_store.search_data(cci_attrs=cci_attrs)]"
   ]
  },
  {
   "cell_type": "markdown",
   "metadata": {},
   "source": [
    "'esacci.AEROSOL.mon.L3.AAI.multi-sensor.multi-platform.MSAAI.1-7.r1' sounds interesting. Let's get more information about that one."
   ]
  },
  {
   "cell_type": "code",
   "execution_count": 7,
   "metadata": {},
   "outputs": [
    {
     "data": {
      "application/json": {
       "attrs": {
        "abstract": "The ESA Climate Change Initiative Aerosol project has produced a number of global aerosol Essential Climate Variable (ECV) products from a set of European satellite instruments with different characteristics.   This dataset comprises Level 3 Absorbing Aerosol Index (AAI) products, using the Multi-Sensor UVAI algorithm, Version 1.7.  L3 products are provided as daily and monthly gridded products as well as a monthly climatology. \n\nFor further details about these data products please see the linked documentation.",
        "catalog_url": "https://catalogue.ceda.ac.uk/uuid/2e656d34d016414c8d6bced18634772c",
        "cci_project": "AEROSOL",
        "comment": "Sun glint and solar eclipse events were filtered out.",
        "data_type": "AAI",
        "description": "Multi-Sensor AAI field for December 1978",
        "ecv": "AEROSOL",
        "history": "2017-07-24 09:13:46 - Product generated using create_msaai_monthly_products.pro",
        "institute": "Royal Netherlands Meteorological Institute",
        "licences": "Use of these data is covered by the following licence: http://licences.ceda.ac.uk/image/data_access_condition/esacci_aerosol_terms_and_conditions.pdf . When using these data you must cite them correctly using the citation given on the CEDA Data Catalogue record.",
        "platform_id": "multi-platform",
        "processing_level": "L3",
        "product_string": "MSAAI",
        "product_version": "1-7",
        "project": "Climate Change Initiative - European Space Agency",
        "publication_date": "2020-08-27T16:02:30",
        "references": "http://www.esa-aerosol-cci.org",
        "sensor_id": "multi-sensor",
        "source": "TOMS AAI version 8, GOME-1 AAI version 5.0, SCIAMACHY AAI version 5.1, OMI AAI version 1.1.1, GOME-2 AAI version 1.35",
        "title": "ESA Aerosol Climate Change Initiative (Aerosol_cci): Level 3 aerosol products  from the Multi-Sensor UV Absorbing Aerosol Index (MS UVAI) algorithm, Version 1.7",
        "uuid": "2e656d34d016414c8d6bced18634772c"
       },
       "bbox": [
        -180,
        -90,
        180,
        90
       ],
       "coords": {
        "latitude": {
         "attrs": {
          "chunk_sizes": [
           180
          ],
          "data_type": "float32",
          "dimensions": [
           "latitude"
          ],
          "file_chunk_sizes": [
           180
          ],
          "file_dimensions": [
           "latitude"
          ],
          "fill_value": null,
          "long_name": "Latitudes of the centre of the grid cells",
          "orig_data_type": "float32",
          "shape": [
           180
          ],
          "size": 180,
          "units": "degrees"
         },
         "dims": [
          "latitude"
         ],
         "dtype": "float32",
         "name": "latitude"
        },
        "longitude": {
         "attrs": {
          "chunk_sizes": [
           360
          ],
          "data_type": "float32",
          "dimensions": [
           "longitude"
          ],
          "file_chunk_sizes": [
           360
          ],
          "file_dimensions": [
           "longitude"
          ],
          "fill_value": null,
          "long_name": "Longitudes of the centre of the grid cells",
          "orig_data_type": "float32",
          "shape": [
           360
          ],
          "size": 360,
          "units": "degrees"
         },
         "dims": [
          "longitude"
         ],
         "dtype": "float32",
         "name": "longitude"
        },
        "time": {
         "attrs": {
          "calendar": "proleptic_gregorian",
          "standard_name": "time",
          "units": "seconds since 1970-01-01T00:00:00Z"
         },
         "dims": [
          "time"
         ],
         "dtype": "int64",
         "name": "time"
        },
        "time_bnds": {
         "attrs": {
          "calendar": "proleptic_gregorian",
          "standard_name": "time_bnds",
          "units": "seconds since 1970-01-01T00:00:00Z"
         },
         "dims": [
          "time",
          "bnds"
         ],
         "dtype": "int64",
         "name": "time_bnds"
        }
       },
       "crs": "WGS84",
       "data_id": "esacci.AEROSOL.mon.L3.AAI.multi-sensor.multi-platform.MSAAI.1-7.r1",
       "data_type": "dataset",
       "data_vars": {
        "absorbing_aerosol_index": {
         "attrs": {
          "chunk_sizes": [
           180,
           360
          ],
          "data_type": "float32",
          "dimensions": [
           "latitude",
           "longitude"
          ],
          "file_chunk_sizes": [
           180,
           360
          ],
          "file_dimensions": [
           "latitude",
           "longitude"
          ],
          "fill_value": null,
          "long_name": "Absorbing aerosol index averaged for each grid cell",
          "orig_data_type": "float32",
          "shape": [
           180,
           360
          ],
          "size": 64800,
          "units": "1"
         },
         "dims": [
          "time",
          "lat",
          "lon"
         ],
         "dtype": "float32",
         "name": "absorbing_aerosol_index"
        },
        "number_of_observations": {
         "attrs": {
          "chunk_sizes": [
           180,
           360
          ],
          "data_type": "int32",
          "dimensions": [
           "latitude",
           "longitude"
          ],
          "file_chunk_sizes": [
           180,
           360
          ],
          "file_dimensions": [
           "latitude",
           "longitude"
          ],
          "fill_value": 2147483647,
          "long_name": "Number of observations for each grid cell",
          "orig_data_type": "int16",
          "shape": [
           180,
           360
          ],
          "size": 64800,
          "units": "1"
         },
         "dims": [
          "time",
          "lat",
          "lon"
         ],
         "dtype": "int32",
         "name": "number_of_observations"
        },
        "number_of_positive_observations": {
         "attrs": {
          "chunk_sizes": [
           180,
           360
          ],
          "data_type": "int32",
          "dimensions": [
           "latitude",
           "longitude"
          ],
          "file_chunk_sizes": [
           180,
           360
          ],
          "file_dimensions": [
           "latitude",
           "longitude"
          ],
          "fill_value": 2147483647,
          "long_name": "Number of positive observations for each grid cell",
          "orig_data_type": "int16",
          "shape": [
           180,
           360
          ],
          "size": 64800,
          "units": "1"
         },
         "dims": [
          "time",
          "lat",
          "lon"
         ],
         "dtype": "int32",
         "name": "number_of_positive_observations"
        },
        "positive_absorbing_aerosol_index": {
         "attrs": {
          "chunk_sizes": [
           180,
           360
          ],
          "data_type": "float32",
          "dimensions": [
           "latitude",
           "longitude"
          ],
          "file_chunk_sizes": [
           180,
           360
          ],
          "file_dimensions": [
           "latitude",
           "longitude"
          ],
          "fill_value": null,
          "long_name": "Positive absorbing aerosol index averaged for each grid cell",
          "orig_data_type": "float32",
          "shape": [
           180,
           360
          ],
          "size": 64800,
          "units": "1"
         },
         "dims": [
          "time",
          "lat",
          "lon"
         ],
         "dtype": "float32",
         "name": "positive_absorbing_aerosol_index"
        },
        "solar_zenith_angle": {
         "attrs": {
          "chunk_sizes": [
           180,
           360
          ],
          "data_type": "float32",
          "dimensions": [
           "latitude",
           "longitude"
          ],
          "file_chunk_sizes": [
           180,
           360
          ],
          "file_dimensions": [
           "latitude",
           "longitude"
          ],
          "fill_value": null,
          "long_name": "Solar zenith angle averaged for each grid cell",
          "orig_data_type": "float32",
          "shape": [
           180,
           360
          ],
          "size": 64800,
          "units": "degrees"
         },
         "dims": [
          "time",
          "lat",
          "lon"
         ],
         "dtype": "float32",
         "name": "solar_zenith_angle"
        }
       },
       "dims": {
        "bnds": 2,
        "lat": 180,
        "lon": 360,
        "time": 422
       },
       "open_params_schema": {
        "additionalProperties": false,
        "properties": {
         "bbox": {
          "items": [
           {
            "maximum": 180,
            "minimum": -180,
            "type": "number"
           },
           {
            "maximum": 90,
            "minimum": -90,
            "type": "number"
           },
           {
            "maximum": 180,
            "minimum": -180,
            "type": "number"
           },
           {
            "maximum": 90,
            "minimum": -90,
            "type": "number"
           }
          ],
          "type": "array"
         },
         "normalize_data": {
          "default": true,
          "type": "boolean"
         },
         "time_range": {
          "items": [
           {
            "format": "date",
            "maxDate": "2015-12-31",
            "minDate": "1978-11-01",
            "type": "string"
           },
           {
            "format": "date",
            "maxDate": "2015-12-31",
            "minDate": "1978-11-01",
            "type": "string"
           }
          ],
          "type": "array"
         },
         "variable_names": {
          "items": {
           "enum": [
            "absorbing_aerosol_index",
            "number_of_observations",
            "solar_zenith_angle",
            "positive_absorbing_aerosol_index",
            "number_of_positive_observations"
           ],
           "type": "string"
          },
          "type": "array"
         }
        },
        "type": "object"
       },
       "time_period": "1M",
       "time_range": [
        "1978-11-01",
        "2015-12-31"
       ]
      },
      "text/plain": [
       "<xcube.core.store.descriptor.DatasetDescriptor at 0x7f9a2e09c610>"
      ]
     },
     "execution_count": 7,
     "metadata": {},
     "output_type": "execute_result"
    }
   ],
   "source": [
    "cci_store.describe_data('esacci.AEROSOL.mon.L3.AAI.multi-sensor.multi-platform.MSAAI.1-7.r1')"
   ]
  },
  {
   "cell_type": "markdown",
   "metadata": {},
   "source": [
    "Finally, we can have a look at which openers are provided by this store."
   ]
  },
  {
   "cell_type": "code",
   "execution_count": 8,
   "metadata": {},
   "outputs": [
    {
     "data": {
      "text/plain": [
       "('dataset:zarr:cciodp',)"
      ]
     },
     "execution_count": 8,
     "metadata": {},
     "output_type": "execute_result"
    }
   ],
   "source": [
    "cci_store.get_data_opener_ids()"
   ]
  },
  {
   "cell_type": "markdown",
   "metadata": {},
   "source": [
    "Here is how you can view which parameters can be used when you want to open a particular dataset (both parameters are optional)."
   ]
  },
  {
   "cell_type": "code",
   "execution_count": 9,
   "metadata": {},
   "outputs": [
    {
     "data": {
      "application/json": {
       "additionalProperties": false,
       "properties": {
        "bbox": {
         "items": [
          {
           "maximum": 180,
           "minimum": -180,
           "type": "number"
          },
          {
           "maximum": 90,
           "minimum": -90,
           "type": "number"
          },
          {
           "maximum": 180,
           "minimum": -180,
           "type": "number"
          },
          {
           "maximum": 90,
           "minimum": -90,
           "type": "number"
          }
         ],
         "type": "array"
        },
        "normalize_data": {
         "default": true,
         "type": "boolean"
        },
        "time_range": {
         "items": [
          {
           "format": "date",
           "maxDate": "2015-12-31",
           "minDate": "1978-11-01",
           "type": "string"
          },
          {
           "format": "date",
           "maxDate": "2015-12-31",
           "minDate": "1978-11-01",
           "type": "string"
          }
         ],
         "type": "array"
        },
        "variable_names": {
         "items": {
          "enum": [
           "absorbing_aerosol_index",
           "number_of_observations",
           "solar_zenith_angle",
           "positive_absorbing_aerosol_index",
           "number_of_positive_observations"
          ],
          "type": "string"
         },
         "type": "array"
        }
       },
       "type": "object"
      },
      "text/plain": [
       "<xcube.util.jsonschema.JsonObjectSchema at 0x7f9a223fd7c0>"
      ]
     },
     "execution_count": 9,
     "metadata": {},
     "output_type": "execute_result"
    }
   ],
   "source": [
    "cci_store.get_open_data_params_schema(data_id='esacci.AEROSOL.mon.L3.AAI.multi-sensor.multi-platform.MSAAI.1-7.r1', opener_id='dataset:zarr:cciodp')"
   ]
  },
  {
   "cell_type": "markdown",
   "metadata": {},
   "source": [
    "Great! Now we are all set to open some cubes. Continue in [Ex1b-DCFS-Setup](./Ex1b-DCFS-CCI_access.ipynb) ..."
   ]
  }
 ],
 "metadata": {
  "kernelspec": {
   "display_name": "Python 3 (ipykernel)",
   "language": "python",
   "name": "python3"
  },
  "language_info": {
   "codemirror_mode": {
    "name": "ipython",
    "version": 3
   },
   "file_extension": ".py",
   "mimetype": "text/x-python",
   "name": "python",
   "nbconvert_exporter": "python",
   "pygments_lexer": "ipython3",
   "version": "3.9.10"
  }
 },
 "nbformat": 4,
 "nbformat_minor": 4
}
