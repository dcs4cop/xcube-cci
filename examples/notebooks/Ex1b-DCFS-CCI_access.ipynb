{
 "cells": [
  {
   "cell_type": "markdown",
   "metadata": {},
   "source": [
    "## ESA CCI Open Data Portal access using xcube\n",
    "\n",
    "This notebook shows how to query the CCI Open Data Portal for its capabilities.\n",
    "\n",
    "To run this Notebook, make sure the ESA CCI ODP / xcube Integration is setup correctly, see [Ex0-DCFS-Setup](./Ex0-DCFS-Setup.ipynb)."
   ]
  },
  {
   "cell_type": "code",
   "execution_count": 3,
   "metadata": {},
   "outputs": [],
   "source": [
    "# xcube_cci imports\n",
    "from xcube_cci.cciodp import CciOdp"
   ]
  },
  {
   "cell_type": "code",
   "execution_count": 4,
   "metadata": {},
   "outputs": [],
   "source": [
    "%matplotlib inline\n",
    "import nest_asyncio\n",
    "nest_asyncio.apply()"
   ]
  },
  {
   "cell_type": "markdown",
   "metadata": {},
   "source": [
    "---\n",
    "If you access the CCI Open Data Portal instance directly, you can get a list of available datasets."
   ]
  },
  {
   "cell_type": "code",
   "execution_count": 7,
   "metadata": {},
   "outputs": [
    {
     "data": {
      "text/plain": [
       "['esacci.OZONE.month.L3.NP.multi-sensor.multi-platform.MERGED.fv0002.r1',\n",
       " 'esacci.CLOUD.month.L3C.CLD_PRODUCTS.MODIS.Aqua.MODIS_AQUA.2-0.r1',\n",
       " 'esacci.AEROSOL.satellite-orbit-frequency.L2P.AER_PRODUCTS.AATSR.Envisat.ADV.2-30.r1',\n",
       " 'esacci.OZONE.month.L3.LP.OSIRIS.ODIN.OSIRIS_ODIN.v0001.r1',\n",
       " 'esacci.SEAICE.day.L4.SICONC.multi-sensor.multi-platform.AMSR_25kmEASE2.2-1.NH',\n",
       " 'esacci.OZONE.month.L3.LP.GOMOS.Envisat.GOMOS_ENVISAT.v0001.r1',\n",
       " 'esacci.AEROSOL.satellite-orbit-frequency.L2P.AER_PRODUCTS.ATSR-2.ERS-2.ADV.2-30.r1',\n",
       " 'esacci.SST.day.L4.SSTdepth.multi-sensor.multi-platform.OSTIA.2-1.anomaly',\n",
       " 'esacci.AEROSOL.day.L3C.AER_PRODUCTS.ATSR-2.ERS-2.ORAC.03-02.r1',\n",
       " 'esacci.AEROSOL.day.L3C.AER_PRODUCTS.ATSR-2.ERS-2.ATSR2.04-01.r1',\n",
       " 'esacci.AEROSOL.day.L3C.AER_PRODUCTS.ATSR-2.ERS-2.ATSR2.04-01_seg.r1',\n",
       " 'esacci.AEROSOL.month.L3C.AER_PRODUCTS.ATSR-2.ERS-2.ORAC.03-02.r1',\n",
       " 'esacci.AEROSOL.month.L3C.AER_PRODUCTS.ATSR-2.ERS-2.ATSR2.04-01.r1',\n",
       " 'esacci.AEROSOL.month.L3C.AER_PRODUCTS.ATSR-2.ERS-2.ATSR2.04-01_seg.r1',\n",
       " 'esacci.OZONE.day.L3S.TC.multi-sensor.multi-platform.MERGED.fv0100.r1',\n",
       " 'esacci.SOILMOISTURE.day.L3S.SSMS.multi-sensor.multi-platform.ACTIVE.04-5.r1',\n",
       " 'esacci.AEROSOL.day.L3C.AER_PRODUCTS.AATSR.Envisat.SU.4-21.r1',\n",
       " 'esacci.AEROSOL.month.L3C.AER_PRODUCTS.AATSR.Envisat.SU.4-21.r1',\n",
       " 'esacci.GHG.satellite-orbit-frequency.L2.CO2.TANSO-FTS.GOSAT.OCFP.v7-0-1.r1',\n",
       " 'esacci.CLOUD.month.L3C.CLD_PRODUCTS.multi-sensor.multi-platform.AVHRR-AM.2-0.r1',\n",
       " 'esacci.GHG.satellite-orbit-frequency.L2.CH4.TANSO-FTS.GOSAT.OCFP.v2-1.r1',\n",
       " 'esacci.OC.day.L3S.CHLOR_A.multi-sensor.multi-platform.MERGED.4-0.geographic',\n",
       " 'esacci.OC.5-days.L3S.CHLOR_A.multi-sensor.multi-platform.MERGED.4-0.geographic',\n",
       " 'esacci.OC.8-days.L3S.CHLOR_A.multi-sensor.multi-platform.MERGED.4-0.geographic',\n",
       " 'esacci.OC.month.L3S.CHLOR_A.multi-sensor.multi-platform.MERGED.4-0.geographic',\n",
       " 'esacci.AEROSOL.day.L3C.AER_PRODUCTS.AATSR.Envisat.ORAC.03-02.r1',\n",
       " 'esacci.AEROSOL.month.L3C.AER_PRODUCTS.AATSR.Envisat.ORAC.03-02.r1',\n",
       " 'esacci.GHG.satellite-orbit-frequency.L2.CH4.SCIAMACHY.Envisat.WFMD.v4-0.r1',\n",
       " 'esacci.SST.satellite-orbit-frequency.L3U.SSTskin.AATSR.Envisat.AATSR.2-1.r1',\n",
       " 'esacci.SST.satellite-orbit-frequency.L3U.SSTskin.ATSR-2.ERS-2.ATSR2.2-1.r1',\n",
       " 'esacci.SST.satellite-orbit-frequency.L3U.SSTskin.ATSR.ERS-2.ATSR2.2-1.r1',\n",
       " 'esacci.SST.satellite-orbit-frequency.L3U.SSTskin.ATSR.ERS-1.ATSR1.2-1.r1',\n",
       " 'esacci.OC.day.L3S.CHLOR_A.multi-sensor.multi-platform.MERGED.3-1.sinusoidal',\n",
       " 'esacci.SST.day.L3C.SSTskin.AVHRR-3.NOAA-15.AVHRR15_G.2-1.r1',\n",
       " 'esacci.SST.day.L3C.SSTskin.AVHRR-3.Metop-A.AVHRRMTA_G.2-1.r1',\n",
       " 'esacci.SST.day.L3C.SSTskin.AVHRR-3.NOAA-19.AVHRR19_G.2-1.r1',\n",
       " 'esacci.SST.day.L3C.SSTskin.AVHRR-3.NOAA-17.AVHRR17_G.2-1.r1',\n",
       " 'esacci.SST.day.L3C.SSTskin.AVHRR-3.NOAA-18.AVHRR18_G.2-1.r1',\n",
       " 'esacci.SST.day.L3C.SSTskin.AVHRR-3.NOAA-16.AVHRR16_G.2-1.r1',\n",
       " 'esacci.SST.day.L3C.SSTskin.AVHRR-2.NOAA-12.AVHRR12_G.2-1.r1',\n",
       " 'esacci.SST.day.L3C.SSTskin.AVHRR-2.NOAA-11.AVHRR11_G.2-1.r1',\n",
       " 'esacci.SST.day.L3C.SSTskin.AVHRR-2.NOAA-14.AVHRR14_G.2-1.r1',\n",
       " 'esacci.SST.day.L3C.SSTskin.AVHRR-2.NOAA-9.AVHRR09_G.2-1.r1',\n",
       " 'esacci.SST.day.L3C.SSTskin.AVHRR-2.NOAA-7.AVHRR07_G.2-1.r1',\n",
       " 'esacci.CLOUD.month.L3C.CLD_PRODUCTS.multi-sensor.Envisat.MERIS-AATSR.2-0.r1',\n",
       " 'esacci.SOILMOISTURE.day.L3S.SSMS.multi-sensor.multi-platform.ACTIVE.04-4.r1',\n",
       " 'esacci.SOILMOISTURE.day.L3S.SSMS.AMI-SCAT.multi-platform.ACTIVE.04-4.r1',\n",
       " 'esacci.SST.climatology.L4.SSTdepth.multi-sensor.multi-platform.OSTIA.2-1.r1',\n",
       " 'esacci.OC.day.L3S.OC_PRODUCTS.multi-sensor.multi-platform.MERGED.3-1.geographic',\n",
       " 'esacci.OC.5-days.L3S.OC_PRODUCTS.multi-sensor.multi-platform.MERGED.3-1.geographic',\n",
       " 'esacci.OC.8-days.L3S.OC_PRODUCTS.multi-sensor.multi-platform.MERGED.3-1.geographic',\n",
       " 'esacci.OC.month.L3S.OC_PRODUCTS.multi-sensor.multi-platform.MERGED.3-1.geographic',\n",
       " 'esacci.GHG.satellite-orbit-frequency.L2.CH4.TANSO-FTS.GOSAT.SRFP.v2-3-8.r1',\n",
       " 'esacci.OC.day.L3S.RRS.multi-sensor.multi-platform.MERGED.3-1.sinusoidal',\n",
       " 'esacci.OC.month.L3S.RRS.multi-sensor.multi-platform.MERGED.3-1.sinusoidal',\n",
       " 'esacci.OC.day.L3S.K_490.multi-sensor.multi-platform.MERGED.4-0.geographic',\n",
       " 'esacci.OC.5-days.L3S.K_490.multi-sensor.multi-platform.MERGED.4-0.geographic',\n",
       " 'esacci.OC.8-days.L3S.K_490.multi-sensor.multi-platform.MERGED.4-0.geographic',\n",
       " 'esacci.OC.month.L3S.K_490.multi-sensor.multi-platform.MERGED.4-0.geographic',\n",
       " 'esacci.AEROSOL.satellite-orbit-frequency.L2P.AER_PRODUCTS.AATSR.Envisat.ORAC.03-02.r1',\n",
       " 'esacci.CLOUD.month.L3C.CLD_PRODUCTS.multi-sensor.multi-platform.ATSR2-AATSR.2-0.r1',\n",
       " 'esacci.AEROSOL.month.L3C.AER_PRODUCTS.ATSR-2.ERS-2.SU.4-21.r1',\n",
       " 'esacci.GHG.satellite-orbit-frequency.L2.CO2.TANSO-FTS.GOSAT.SRFP.v2-3-8.r1',\n",
       " 'esacci.GHG.satellite-orbit-frequency.L2.CH4.SCIAMACHY.Envisat.IMAP.v7-2.r1',\n",
       " 'esacci.FIRE.month.L4.BA.MODIS.Terra.MODIS_TERRA.v5-1.r1',\n",
       " 'esacci.AEROSOL.day.L3C.AER_PRODUCTS.AATSR.Envisat.ADV.2-30.r1',\n",
       " 'esacci.AEROSOL.month.L3C.AER_PRODUCTS.AATSR.Envisat.ADV.2-30.r1',\n",
       " 'esacci.AEROSOL.satellite-orbit-frequency.L2P.AOD.MERIS.Envisat.MERIS_ENVISAT.2-2.r1',\n",
       " 'esacci.CLOUD.month.L3C.CLD_PRODUCTS.multi-sensor.multi-platform.AVHRR-PM.2-0.r1',\n",
       " 'esacci.SST.satellite-orbit-frequency.L2P.SSTskin.AATSR.Envisat.AATSR.2-1.r1',\n",
       " 'esacci.SST.satellite-orbit-frequency.L2P.SSTskin.ATSR-2.ERS-2.ATSR2.2-1.r1',\n",
       " 'esacci.SST.satellite-orbit-frequency.L2P.SSTskin.ATSR.ERS-2.ATSR2.2-1.r1',\n",
       " 'esacci.SST.satellite-orbit-frequency.L2P.SSTskin.ATSR.ERS-1.ATSR1.2-1.r1',\n",
       " 'esacci.GHG.satellite-orbit-frequency.L2.CO2.SCIAMACHY.Envisat.BESD.v02-01-02.r1',\n",
       " 'esacci.SST.satellite-orbit-frequency.L3U.SSTskin.AVHRR-3.Metop-A.AVHRRMTA_G.2-1.r1',\n",
       " 'esacci.SST.satellite-orbit-frequency.L3U.SSTskin.AVHRR-3.NOAA-15.AVHRR15_G.2-1.r1',\n",
       " 'esacci.SST.satellite-orbit-frequency.L3U.SSTskin.AVHRR-3.NOAA-19.AVHRR19_G.2-1.r1',\n",
       " 'esacci.SST.satellite-orbit-frequency.L3U.SSTskin.AVHRR-3.NOAA-17.AVHRR17_G.2-1.r1',\n",
       " 'esacci.SST.satellite-orbit-frequency.L3U.SSTskin.AVHRR-3.NOAA-18.AVHRR18_G.2-1.r1',\n",
       " 'esacci.SST.satellite-orbit-frequency.L3U.SSTskin.AVHRR-3.NOAA-16.AVHRR16_G.2-1.r1',\n",
       " 'esacci.SST.satellite-orbit-frequency.L3U.SSTskin.AVHRR-2.NOAA-12.AVHRR12_G.2-1.r1',\n",
       " 'esacci.SST.satellite-orbit-frequency.L3U.SSTskin.AVHRR-2.NOAA-11.AVHRR11_G.2-1.r1',\n",
       " 'esacci.SST.satellite-orbit-frequency.L3U.SSTskin.AVHRR-2.NOAA-14.AVHRR14_G.2-1.r1',\n",
       " 'esacci.SST.satellite-orbit-frequency.L3U.SSTskin.AVHRR-2.NOAA-9.AVHRR09_G.2-1.r1',\n",
       " 'esacci.SST.satellite-orbit-frequency.L3U.SSTskin.AVHRR-2.NOAA-7.AVHRR07_G.2-1.r1',\n",
       " 'esacci.OZONE.month.L3.LP.SMR.ODIN.MZM.v0001.r1',\n",
       " 'esacci.CLOUD.month.L3C.CLD_PRODUCTS.MODIS.Terra.MODIS_TERRA.2-0.r1',\n",
       " 'esacci.SST.day.L3C.SSTskin.AATSR.Envisat.AATSR.2-1.day',\n",
       " 'esacci.SST.day.L3C.SSTskin.ATSR-2.ERS-2.ATSR2.2-1.day',\n",
       " 'esacci.SST.day.L3C.SSTskin.ATSR.ERS-2.ATSR2.2-1.day',\n",
       " 'esacci.SST.day.L3C.SSTskin.ATSR.ERS-1.ATSR1.2-1.day',\n",
       " 'esacci.GHG.satellite-orbit-frequency.L2.CH4.TANSO-FTS.GOSAT.SRPR.v2-3-8.r1',\n",
       " 'esacci.GHG.satellite-orbit-frequency.L2.CO2.SCIAMACHY.Envisat.WFMD.v4-0.r1',\n",
       " 'esacci.OC.day.L3S.RRS.multi-sensor.multi-platform.MERGED.4-0.geographic',\n",
       " 'esacci.OC.5-days.L3S.RRS.multi-sensor.multi-platform.MERGED.4-0.geographic',\n",
       " 'esacci.OC.8-days.L3S.RRS.multi-sensor.multi-platform.MERGED.4-0.geographic',\n",
       " 'esacci.OC.month.L3S.RRS.multi-sensor.multi-platform.MERGED.4-0.geographic',\n",
       " 'esacci.SOILMOISTURE.day.L3S.SSMV.multi-sensor.multi-platform.PASSIVE.04-4.r1',\n",
       " 'esacci.OC.day.L3S.IOP.multi-sensor.multi-platform.MERGED.4-0.geographic',\n",
       " 'esacci.OC.5-days.L3S.IOP.multi-sensor.multi-platform.MERGED.4-0.geographic',\n",
       " 'esacci.OC.8-days.L3S.IOP.multi-sensor.multi-platform.MERGED.4-0.geographic',\n",
       " 'esacci.OC.month.L3S.IOP.multi-sensor.multi-platform.MERGED.4-0.geographic',\n",
       " 'esacci.OC.day.L3S.IOP.multi-sensor.multi-platform.MERGED.3-1.geographic',\n",
       " 'esacci.OC.5-days.L3S.IOP.multi-sensor.multi-platform.MERGED.3-1.geographic',\n",
       " 'esacci.OC.8-days.L3S.IOP.multi-sensor.multi-platform.MERGED.3-1.geographic',\n",
       " 'esacci.OC.month.L3S.IOP.multi-sensor.multi-platform.MERGED.3-1.geographic',\n",
       " 'esacci.SOILMOISTURE.day.L3S.SSMV.multi-sensor.multi-platform.COMBINED.04-5.r1',\n",
       " 'esacci.AEROSOL.day.L3C.AOD.MERIS.Envisat.MERIS_ENVISAT.2-2.r1',\n",
       " 'esacci.AEROSOL.month.L3C.AOD.MERIS.Envisat.MERIS_ENVISAT.2-2.r1',\n",
       " 'esacci.OC.day.L3S.RRS.multi-sensor.multi-platform.MERGED.3-1.geographic',\n",
       " 'esacci.OC.5-days.L3S.RRS.multi-sensor.multi-platform.MERGED.3-1.geographic',\n",
       " 'esacci.OC.8-days.L3S.RRS.multi-sensor.multi-platform.MERGED.3-1.geographic',\n",
       " 'esacci.OC.month.L3S.RRS.multi-sensor.multi-platform.MERGED.3-1.geographic',\n",
       " 'esacci.OC.day.L3S.K_490.multi-sensor.multi-platform.MERGED.3-1.geographic',\n",
       " 'esacci.OC.5-days.L3S.K_490.multi-sensor.multi-platform.MERGED.3-1.geographic',\n",
       " 'esacci.OC.8-days.L3S.K_490.multi-sensor.multi-platform.MERGED.3-1.geographic',\n",
       " 'esacci.OC.month.L3S.K_490.multi-sensor.multi-platform.MERGED.3-1.geographic',\n",
       " 'esacci.SOILMOISTURE.day.L3S.SSMV.multi-sensor.multi-platform.COMBINED.04-4.r1',\n",
       " 'esacci.SST.satellite-orbit-frequency.L2P.SSTskin.AVHRR-3.Metop-A.AVHRRMTA_G.2-1.r1',\n",
       " 'esacci.SST.satellite-orbit-frequency.L2P.SSTskin.AVHRR-3.NOAA-15.AVHRR15_G.2-1.r1',\n",
       " 'esacci.SST.satellite-orbit-frequency.L2P.SSTskin.AVHRR-3.NOAA-19.AVHRR19_G.2-1.r1',\n",
       " 'esacci.SST.satellite-orbit-frequency.L2P.SSTskin.AVHRR-3.NOAA-17.AVHRR17_G.2-1.r1',\n",
       " 'esacci.SST.satellite-orbit-frequency.L2P.SSTskin.AVHRR-3.NOAA-16.AVHRR16_G.2-1.r1',\n",
       " 'esacci.SST.satellite-orbit-frequency.L2P.SSTskin.AVHRR-3.NOAA-18.AVHRR18_G.2-1.r1',\n",
       " 'esacci.SST.satellite-orbit-frequency.L2P.SSTskin.AVHRR-2.NOAA-12.AVHRR12_G.2-1.r1',\n",
       " 'esacci.SST.satellite-orbit-frequency.L2P.SSTskin.AVHRR-2.NOAA-11.AVHRR11_G.2-1.r1',\n",
       " 'esacci.SST.satellite-orbit-frequency.L2P.SSTskin.AVHRR-2.NOAA-14.AVHRR14_G.2-1.r1',\n",
       " 'esacci.SST.satellite-orbit-frequency.L2P.SSTskin.AVHRR-2.NOAA-9.AVHRR09_G.2-1.r1',\n",
       " 'esacci.SST.satellite-orbit-frequency.L2P.SSTskin.AVHRR-2.NOAA-7.AVHRR07_G.2-1.r1',\n",
       " 'esacci.LC.year.L4.LCCS.multi-sensor.multi-platform.Map.2-0-7.r1',\n",
       " 'esacci.OZONE.month.L3.LP.SCIAMACHY.Envisat.SCIAMACHY_ENVISAT.v0001.r1',\n",
       " 'esacci.AEROSOL.5-days.L3C.AEX.GOMOS.Envisat.AERGOM.2-19.r1',\n",
       " 'esacci.AEROSOL.satellite-orbit-frequency.L2P.AER_PRODUCTS.ATSR-2.ERS-2.ORAC.03-02.r1',\n",
       " 'esacci.AEROSOL.satellite-orbit-frequency.L2P.AER_PRODUCTS.ATSR-2.ERS-2.ATSR2.04-01.r1',\n",
       " 'esacci.AEROSOL.day.L3C.AER_PRODUCTS.ATSR-2.ERS-2.ADV.2-30.r1',\n",
       " 'esacci.AEROSOL.month.L3C.AER_PRODUCTS.ATSR-2.ERS-2.ADV.2-30.r1',\n",
       " 'esacci.OZONE.month.L3.LP.SMR.ODIN.SMR_ODIN.v0001.r1',\n",
       " 'esacci.SST.day.L4.SSTdepth.multi-sensor.multi-platform.OSTIA.1-1.r1',\n",
       " 'esacci.GHG.satellite-orbit-frequency.L2.CH4.TANSO-FTS.GOSAT.OCPR.v7-0.r1',\n",
       " 'esacci.OC.day.L3S.CHLOR_A.multi-sensor.multi-platform.MERGED.4-0.sinusoidal',\n",
       " 'esacci.OC.month.L3S.CHLOR_A.multi-sensor.multi-platform.MERGED.4-0.sinusoidal',\n",
       " 'esacci.OZONE.month.L3.LP.MIPAS.Envisat.MIPAS_ENVISAT.v0001.r1',\n",
       " 'esacci.SEAICE.day.L4.SICONC.multi-sensor.multi-platform.AMSR_50kmEASE2.2-1.NH',\n",
       " 'esacci.GHG.satellite-orbit-frequency.L2.CO2.multi-sensor.multi-platform.EMMA.v2-2a.r1',\n",
       " 'esacci.GHG.satellite-orbit-frequency.L2.CO2.multi-sensor.multi-platform.EMMA.v2-2b.r1',\n",
       " 'esacci.GHG.satellite-orbit-frequency.L2.CO2.TANSO-FTS.GOSAT.EMMA.v2-2c.r1',\n",
       " 'esacci.AEROSOL.satellite-orbit-frequency.L2P.AER_PRODUCTS.AATSR.Envisat.SU.4-21.r1',\n",
       " 'esacci.AEROSOL.satellite-orbit-frequency.L2P.AER_PRODUCTS.AATSR.Envisat.SU.4-21u.r1',\n",
       " 'esacci.AEROSOL.satellite-orbit-frequency.L2P.AER_PRODUCTS.ATSR-2.ERS-2.SU.4-21.r1',\n",
       " 'esacci.SEASURFACESALINITY.day.L4.SSS.multi-sensor.multi-platform.MERGED_OI_7DAY_RUNNINGMEAN_DAILY_25km.01-08.r1',\n",
       " 'esacci.SOILMOISTURE.day.L3S.SSMV.multi-sensor.multi-platform.PASSIVE.04-5.r1',\n",
       " 'esacci.OC.day.L3S.OC_PRODUCTS.multi-sensor.multi-platform.MERGED.4-0.sinusoidal',\n",
       " 'esacci.OC.day.L3S.IOP.multi-sensor.multi-platform.MERGED.4-0.sinusoidal',\n",
       " 'esacci.OC.month.L3S.IOP.multi-sensor.multi-platform.MERGED.4-0.sinusoidal',\n",
       " 'esacci.GHG.satellite-orbit-frequency.L2.CH4.TANSO-FTS.GOSAT.EMMA.ch4_v1-2.r1',\n",
       " 'esacci.SEASURFACESALINITY.15-days.L4.SSS.multi-sensor.multi-platform.MERGED_OI_Monthly_CENTRED_15Day_25km.01-08.r1',\n",
       " 'esacci.OC.day.L3S.K_490.multi-sensor.multi-platform.MERGED.3-1.sinusoidal',\n",
       " 'esacci.OC.day.L3S.K_490.multi-sensor.multi-platform.MERGED.4-0.sinusoidal',\n",
       " 'esacci.OC.month.L3S.K_490.multi-sensor.multi-platform.MERGED.4-0.sinusoidal',\n",
       " 'esacci.OC.day.L3S.OC_PRODUCTS.multi-sensor.multi-platform.MERGED.4-0.geographic',\n",
       " 'esacci.OC.5-days.L3S.OC_PRODUCTS.multi-sensor.multi-platform.MERGED.4-0.geographic',\n",
       " 'esacci.OC.8-days.L3S.OC_PRODUCTS.multi-sensor.multi-platform.MERGED.4-0.geographic',\n",
       " 'esacci.OC.month.L3S.OC_PRODUCTS.multi-sensor.multi-platform.MERGED.4-0.geographic',\n",
       " 'esacci.OC.day.L3S.CHLOR_A.multi-sensor.multi-platform.MERGED.3-1.geographic',\n",
       " 'esacci.OC.5-days.L3S.CHLOR_A.multi-sensor.multi-platform.MERGED.3-1.geographic',\n",
       " 'esacci.OC.8-days.L3S.CHLOR_A.multi-sensor.multi-platform.MERGED.3-1.geographic',\n",
       " 'esacci.OC.month.L3S.CHLOR_A.multi-sensor.multi-platform.MERGED.3-1.geographic']"
      ]
     },
     "execution_count": 7,
     "metadata": {},
     "output_type": "execute_result"
    }
   ],
   "source": [
    "cci_odp = CciOdp()\n",
    "cci_odp.dataset_names"
   ]
  },
  {
   "cell_type": "markdown",
   "metadata": {},
   "source": [
    "Also, you can get a list of variables for any dataset."
   ]
  },
  {
   "cell_type": "code",
   "execution_count": 13,
   "metadata": {},
   "outputs": [
    {
     "data": {
      "text/plain": [
       "['surface_pressure',\n",
       " 'O3_du',\n",
       " 'O3e_du',\n",
       " 'O3_du_tot',\n",
       " 'O3e_du_tot',\n",
       " 'O3_vmr',\n",
       " 'O3e_vmr',\n",
       " 'O3_ndens',\n",
       " 'O3e_ndens']"
      ]
     },
     "execution_count": 13,
     "metadata": {},
     "output_type": "execute_result"
    }
   ],
   "source": [
    "cci_odp.var_names('esacci.OZONE.month.L3.NP.multi-sensor.multi-platform.MERGED.fv0002.r1')"
   ]
  }
 ],
 "metadata": {
  "kernelspec": {
   "display_name": "Python 3",
   "language": "python",
   "name": "python3"
  },
  "language_info": {
   "codemirror_mode": {
    "name": "ipython",
    "version": 3
   },
   "file_extension": ".py",
   "mimetype": "text/x-python",
   "name": "python",
   "nbconvert_exporter": "python",
   "pygments_lexer": "ipython3",
   "version": "3.7.6"
  }
 },
 "nbformat": 4,
 "nbformat_minor": 4
}
